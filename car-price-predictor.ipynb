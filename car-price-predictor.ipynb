{
 "cells": [
  {
   "cell_type": "code",
   "execution_count": 1,
   "id": "471636e3",
   "metadata": {
    "_cell_guid": "b1076dfc-b9ad-4769-8c92-a6c4dae69d19",
    "_uuid": "8f2839f25d086af736a60e9eeb907d3b93b6e0e5",
    "execution": {
     "iopub.execute_input": "2025-05-16T13:50:07.003100Z",
     "iopub.status.busy": "2025-05-16T13:50:07.002769Z",
     "iopub.status.idle": "2025-05-16T13:50:09.101293Z",
     "shell.execute_reply": "2025-05-16T13:50:09.099542Z"
    },
    "papermill": {
     "duration": 2.111941,
     "end_time": "2025-05-16T13:50:09.103007",
     "exception": false,
     "start_time": "2025-05-16T13:50:06.991066",
     "status": "completed"
    },
    "tags": []
   },
   "outputs": [
    {
     "name": "stdout",
     "output_type": "stream",
     "text": [
      "/kaggle/input/quickr-car/quikr_car.csv\n"
     ]
    }
   ],
   "source": [
    "# This Python 3 environment comes with many helpful analytics libraries installed\n",
    "# It is defined by the kaggle/python Docker image: https://github.com/kaggle/docker-python\n",
    "# For example, here's several helpful packages to load\n",
    "\n",
    "import numpy as np # linear algebra\n",
    "import pandas as pd # data processing, CSV file I/O (e.g. pd.read_csv)\n",
    "\n",
    "# Input data files are available in the read-only \"../input/\" directory\n",
    "# For example, running this (by clicking run or pressing Shift+Enter) will list all files under the input directory\n",
    "\n",
    "import os\n",
    "for dirname, _, filenames in os.walk('/kaggle/input'):\n",
    "    for filename in filenames:\n",
    "        print(os.path.join(dirname, filename))\n",
    "\n",
    "# You can write up to 20GB to the current directory (/kaggle/working/) that gets preserved as output when you create a version using \"Save & Run All\" \n",
    "# You can also write temporary files to /kaggle/temp/, but they won't be saved outside of the current session"
   ]
  },
  {
   "cell_type": "code",
   "execution_count": 2,
   "id": "1f0cde23",
   "metadata": {
    "execution": {
     "iopub.execute_input": "2025-05-16T13:50:09.122861Z",
     "iopub.status.busy": "2025-05-16T13:50:09.122452Z",
     "iopub.status.idle": "2025-05-16T13:50:09.127329Z",
     "shell.execute_reply": "2025-05-16T13:50:09.126372Z"
    },
    "papermill": {
     "duration": 0.016147,
     "end_time": "2025-05-16T13:50:09.128846",
     "exception": false,
     "start_time": "2025-05-16T13:50:09.112699",
     "status": "completed"
    },
    "tags": []
   },
   "outputs": [],
   "source": [
    "import pandas as pd\n",
    "import numpy as np\n",
    "import matplotlib.pyplot as plt"
   ]
  },
  {
   "cell_type": "code",
   "execution_count": 3,
   "id": "f541c83b",
   "metadata": {
    "execution": {
     "iopub.execute_input": "2025-05-16T13:50:09.153844Z",
     "iopub.status.busy": "2025-05-16T13:50:09.153495Z",
     "iopub.status.idle": "2025-05-16T13:50:09.179705Z",
     "shell.execute_reply": "2025-05-16T13:50:09.178525Z"
    },
    "papermill": {
     "duration": 0.038868,
     "end_time": "2025-05-16T13:50:09.181620",
     "exception": false,
     "start_time": "2025-05-16T13:50:09.142752",
     "status": "completed"
    },
    "tags": []
   },
   "outputs": [],
   "source": [
    "car=pd.read_csv('/kaggle/input/quickr-car/quikr_car.csv')"
   ]
  },
  {
   "cell_type": "code",
   "execution_count": 4,
   "id": "6f982477",
   "metadata": {
    "execution": {
     "iopub.execute_input": "2025-05-16T13:50:09.200810Z",
     "iopub.status.busy": "2025-05-16T13:50:09.200505Z",
     "iopub.status.idle": "2025-05-16T13:50:09.229023Z",
     "shell.execute_reply": "2025-05-16T13:50:09.228271Z"
    },
    "papermill": {
     "duration": 0.040048,
     "end_time": "2025-05-16T13:50:09.230562",
     "exception": false,
     "start_time": "2025-05-16T13:50:09.190514",
     "status": "completed"
    },
    "tags": []
   },
   "outputs": [
    {
     "data": {
      "text/html": [
       "<div>\n",
       "<style scoped>\n",
       "    .dataframe tbody tr th:only-of-type {\n",
       "        vertical-align: middle;\n",
       "    }\n",
       "\n",
       "    .dataframe tbody tr th {\n",
       "        vertical-align: top;\n",
       "    }\n",
       "\n",
       "    .dataframe thead th {\n",
       "        text-align: right;\n",
       "    }\n",
       "</style>\n",
       "<table border=\"1\" class=\"dataframe\">\n",
       "  <thead>\n",
       "    <tr style=\"text-align: right;\">\n",
       "      <th></th>\n",
       "      <th>name</th>\n",
       "      <th>company</th>\n",
       "      <th>year</th>\n",
       "      <th>Price</th>\n",
       "      <th>kms_driven</th>\n",
       "      <th>fuel_type</th>\n",
       "    </tr>\n",
       "  </thead>\n",
       "  <tbody>\n",
       "    <tr>\n",
       "      <th>0</th>\n",
       "      <td>Hyundai Santro Xing XO eRLX Euro III</td>\n",
       "      <td>Hyundai</td>\n",
       "      <td>2007</td>\n",
       "      <td>80,000</td>\n",
       "      <td>45,000 kms</td>\n",
       "      <td>Petrol</td>\n",
       "    </tr>\n",
       "    <tr>\n",
       "      <th>1</th>\n",
       "      <td>Mahindra Jeep CL550 MDI</td>\n",
       "      <td>Mahindra</td>\n",
       "      <td>2006</td>\n",
       "      <td>4,25,000</td>\n",
       "      <td>40 kms</td>\n",
       "      <td>Diesel</td>\n",
       "    </tr>\n",
       "    <tr>\n",
       "      <th>2</th>\n",
       "      <td>Maruti Suzuki Alto 800 Vxi</td>\n",
       "      <td>Maruti</td>\n",
       "      <td>2018</td>\n",
       "      <td>Ask For Price</td>\n",
       "      <td>22,000 kms</td>\n",
       "      <td>Petrol</td>\n",
       "    </tr>\n",
       "    <tr>\n",
       "      <th>3</th>\n",
       "      <td>Hyundai Grand i10 Magna 1.2 Kappa VTVT</td>\n",
       "      <td>Hyundai</td>\n",
       "      <td>2014</td>\n",
       "      <td>3,25,000</td>\n",
       "      <td>28,000 kms</td>\n",
       "      <td>Petrol</td>\n",
       "    </tr>\n",
       "    <tr>\n",
       "      <th>4</th>\n",
       "      <td>Ford EcoSport Titanium 1.5L TDCi</td>\n",
       "      <td>Ford</td>\n",
       "      <td>2014</td>\n",
       "      <td>5,75,000</td>\n",
       "      <td>36,000 kms</td>\n",
       "      <td>Diesel</td>\n",
       "    </tr>\n",
       "  </tbody>\n",
       "</table>\n",
       "</div>"
      ],
      "text/plain": [
       "                                     name   company  year          Price  \\\n",
       "0    Hyundai Santro Xing XO eRLX Euro III   Hyundai  2007         80,000   \n",
       "1                 Mahindra Jeep CL550 MDI  Mahindra  2006       4,25,000   \n",
       "2              Maruti Suzuki Alto 800 Vxi    Maruti  2018  Ask For Price   \n",
       "3  Hyundai Grand i10 Magna 1.2 Kappa VTVT   Hyundai  2014       3,25,000   \n",
       "4        Ford EcoSport Titanium 1.5L TDCi      Ford  2014       5,75,000   \n",
       "\n",
       "   kms_driven fuel_type  \n",
       "0  45,000 kms    Petrol  \n",
       "1      40 kms    Diesel  \n",
       "2  22,000 kms    Petrol  \n",
       "3  28,000 kms    Petrol  \n",
       "4  36,000 kms    Diesel  "
      ]
     },
     "execution_count": 4,
     "metadata": {},
     "output_type": "execute_result"
    }
   ],
   "source": [
    "car.head()"
   ]
  },
  {
   "cell_type": "code",
   "execution_count": 5,
   "id": "854d49e4",
   "metadata": {
    "execution": {
     "iopub.execute_input": "2025-05-16T13:50:09.250665Z",
     "iopub.status.busy": "2025-05-16T13:50:09.250370Z",
     "iopub.status.idle": "2025-05-16T13:50:09.256504Z",
     "shell.execute_reply": "2025-05-16T13:50:09.255328Z"
    },
    "papermill": {
     "duration": 0.017561,
     "end_time": "2025-05-16T13:50:09.258019",
     "exception": false,
     "start_time": "2025-05-16T13:50:09.240458",
     "status": "completed"
    },
    "tags": []
   },
   "outputs": [
    {
     "data": {
      "text/plain": [
       "(892, 6)"
      ]
     },
     "execution_count": 5,
     "metadata": {},
     "output_type": "execute_result"
    }
   ],
   "source": [
    "car.shape"
   ]
  },
  {
   "cell_type": "code",
   "execution_count": 6,
   "id": "0c7be76e",
   "metadata": {
    "execution": {
     "iopub.execute_input": "2025-05-16T13:50:09.282173Z",
     "iopub.status.busy": "2025-05-16T13:50:09.281871Z",
     "iopub.status.idle": "2025-05-16T13:50:09.314073Z",
     "shell.execute_reply": "2025-05-16T13:50:09.312787Z"
    },
    "papermill": {
     "duration": 0.048157,
     "end_time": "2025-05-16T13:50:09.316019",
     "exception": false,
     "start_time": "2025-05-16T13:50:09.267862",
     "status": "completed"
    },
    "tags": []
   },
   "outputs": [
    {
     "name": "stdout",
     "output_type": "stream",
     "text": [
      "<class 'pandas.core.frame.DataFrame'>\n",
      "RangeIndex: 892 entries, 0 to 891\n",
      "Data columns (total 6 columns):\n",
      " #   Column      Non-Null Count  Dtype \n",
      "---  ------      --------------  ----- \n",
      " 0   name        892 non-null    object\n",
      " 1   company     892 non-null    object\n",
      " 2   year        892 non-null    object\n",
      " 3   Price       892 non-null    object\n",
      " 4   kms_driven  840 non-null    object\n",
      " 5   fuel_type   837 non-null    object\n",
      "dtypes: object(6)\n",
      "memory usage: 41.9+ KB\n"
     ]
    }
   ],
   "source": [
    "car.info()"
   ]
  },
  {
   "cell_type": "markdown",
   "id": "e5baa20c",
   "metadata": {
    "papermill": {
     "duration": 0.009538,
     "end_time": "2025-05-16T13:50:09.335391",
     "exception": false,
     "start_time": "2025-05-16T13:50:09.325853",
     "status": "completed"
    },
    "tags": []
   },
   "source": [
    "# *Issues that we have to fix*"
   ]
  },
  {
   "cell_type": "code",
   "execution_count": 7,
   "id": "bf26e2b9",
   "metadata": {
    "execution": {
     "iopub.execute_input": "2025-05-16T13:50:09.356378Z",
     "iopub.status.busy": "2025-05-16T13:50:09.355934Z",
     "iopub.status.idle": "2025-05-16T13:50:09.361473Z",
     "shell.execute_reply": "2025-05-16T13:50:09.360430Z"
    },
    "papermill": {
     "duration": 0.018587,
     "end_time": "2025-05-16T13:50:09.363444",
     "exception": false,
     "start_time": "2025-05-16T13:50:09.344857",
     "status": "completed"
    },
    "tags": []
   },
   "outputs": [],
   "source": [
    "# year has many non integer value\n",
    "# we have to convert obj to int\n",
    "# price has ask for price and object to int remove ,\n",
    "#kms_driven obj to int\n",
    "# kms has nan values\n",
    "# fuel type has nan value\n",
    "# keep first three words of name because it has integer values also\n"
   ]
  },
  {
   "cell_type": "markdown",
   "id": "9d94cfa8",
   "metadata": {
    "papermill": {
     "duration": 0.013846,
     "end_time": "2025-05-16T13:50:09.389837",
     "exception": false,
     "start_time": "2025-05-16T13:50:09.375991",
     "status": "completed"
    },
    "tags": []
   },
   "source": [
    "# *Cleaning*"
   ]
  },
  {
   "cell_type": "code",
   "execution_count": 8,
   "id": "8b536708",
   "metadata": {
    "execution": {
     "iopub.execute_input": "2025-05-16T13:50:09.415467Z",
     "iopub.status.busy": "2025-05-16T13:50:09.414612Z",
     "iopub.status.idle": "2025-05-16T13:50:09.420680Z",
     "shell.execute_reply": "2025-05-16T13:50:09.419526Z"
    },
    "papermill": {
     "duration": 0.022162,
     "end_time": "2025-05-16T13:50:09.422678",
     "exception": false,
     "start_time": "2025-05-16T13:50:09.400516",
     "status": "completed"
    },
    "tags": []
   },
   "outputs": [],
   "source": [
    "backup=car.copy() # so that our data set has a copy of original "
   ]
  },
  {
   "cell_type": "code",
   "execution_count": 9,
   "id": "e2a93ca9",
   "metadata": {
    "execution": {
     "iopub.execute_input": "2025-05-16T13:50:09.443700Z",
     "iopub.status.busy": "2025-05-16T13:50:09.443412Z",
     "iopub.status.idle": "2025-05-16T13:50:09.454121Z",
     "shell.execute_reply": "2025-05-16T13:50:09.453085Z"
    },
    "papermill": {
     "duration": 0.02269,
     "end_time": "2025-05-16T13:50:09.455852",
     "exception": false,
     "start_time": "2025-05-16T13:50:09.433162",
     "status": "completed"
    },
    "tags": []
   },
   "outputs": [
    {
     "data": {
      "text/plain": [
       "0       True\n",
       "1       True\n",
       "2       True\n",
       "3       True\n",
       "4       True\n",
       "       ...  \n",
       "887    False\n",
       "888     True\n",
       "889     True\n",
       "890     True\n",
       "891     True\n",
       "Name: year, Length: 892, dtype: bool"
      ]
     },
     "execution_count": 9,
     "metadata": {},
     "output_type": "execute_result"
    }
   ],
   "source": [
    "car['year'].str.isnumeric() # here we see true for numeric value"
   ]
  },
  {
   "cell_type": "code",
   "execution_count": 10,
   "id": "92ff1922",
   "metadata": {
    "execution": {
     "iopub.execute_input": "2025-05-16T13:50:09.476352Z",
     "iopub.status.busy": "2025-05-16T13:50:09.476024Z",
     "iopub.status.idle": "2025-05-16T13:50:09.492640Z",
     "shell.execute_reply": "2025-05-16T13:50:09.491599Z"
    },
    "papermill": {
     "duration": 0.029036,
     "end_time": "2025-05-16T13:50:09.494610",
     "exception": false,
     "start_time": "2025-05-16T13:50:09.465574",
     "status": "completed"
    },
    "tags": []
   },
   "outputs": [
    {
     "data": {
      "text/html": [
       "<div>\n",
       "<style scoped>\n",
       "    .dataframe tbody tr th:only-of-type {\n",
       "        vertical-align: middle;\n",
       "    }\n",
       "\n",
       "    .dataframe tbody tr th {\n",
       "        vertical-align: top;\n",
       "    }\n",
       "\n",
       "    .dataframe thead th {\n",
       "        text-align: right;\n",
       "    }\n",
       "</style>\n",
       "<table border=\"1\" class=\"dataframe\">\n",
       "  <thead>\n",
       "    <tr style=\"text-align: right;\">\n",
       "      <th></th>\n",
       "      <th>name</th>\n",
       "      <th>company</th>\n",
       "      <th>year</th>\n",
       "      <th>Price</th>\n",
       "      <th>kms_driven</th>\n",
       "      <th>fuel_type</th>\n",
       "    </tr>\n",
       "  </thead>\n",
       "  <tbody>\n",
       "    <tr>\n",
       "      <th>0</th>\n",
       "      <td>Hyundai Santro Xing XO eRLX Euro III</td>\n",
       "      <td>Hyundai</td>\n",
       "      <td>2007</td>\n",
       "      <td>80,000</td>\n",
       "      <td>45,000 kms</td>\n",
       "      <td>Petrol</td>\n",
       "    </tr>\n",
       "    <tr>\n",
       "      <th>1</th>\n",
       "      <td>Mahindra Jeep CL550 MDI</td>\n",
       "      <td>Mahindra</td>\n",
       "      <td>2006</td>\n",
       "      <td>4,25,000</td>\n",
       "      <td>40 kms</td>\n",
       "      <td>Diesel</td>\n",
       "    </tr>\n",
       "    <tr>\n",
       "      <th>2</th>\n",
       "      <td>Maruti Suzuki Alto 800 Vxi</td>\n",
       "      <td>Maruti</td>\n",
       "      <td>2018</td>\n",
       "      <td>Ask For Price</td>\n",
       "      <td>22,000 kms</td>\n",
       "      <td>Petrol</td>\n",
       "    </tr>\n",
       "    <tr>\n",
       "      <th>3</th>\n",
       "      <td>Hyundai Grand i10 Magna 1.2 Kappa VTVT</td>\n",
       "      <td>Hyundai</td>\n",
       "      <td>2014</td>\n",
       "      <td>3,25,000</td>\n",
       "      <td>28,000 kms</td>\n",
       "      <td>Petrol</td>\n",
       "    </tr>\n",
       "    <tr>\n",
       "      <th>4</th>\n",
       "      <td>Ford EcoSport Titanium 1.5L TDCi</td>\n",
       "      <td>Ford</td>\n",
       "      <td>2014</td>\n",
       "      <td>5,75,000</td>\n",
       "      <td>36,000 kms</td>\n",
       "      <td>Diesel</td>\n",
       "    </tr>\n",
       "    <tr>\n",
       "      <th>...</th>\n",
       "      <td>...</td>\n",
       "      <td>...</td>\n",
       "      <td>...</td>\n",
       "      <td>...</td>\n",
       "      <td>...</td>\n",
       "      <td>...</td>\n",
       "    </tr>\n",
       "    <tr>\n",
       "      <th>886</th>\n",
       "      <td>Toyota Corolla Altis</td>\n",
       "      <td>Toyota</td>\n",
       "      <td>2009</td>\n",
       "      <td>3,00,000</td>\n",
       "      <td>1,32,000 kms</td>\n",
       "      <td>Petrol</td>\n",
       "    </tr>\n",
       "    <tr>\n",
       "      <th>888</th>\n",
       "      <td>Tata Zest XM Diesel</td>\n",
       "      <td>Tata</td>\n",
       "      <td>2018</td>\n",
       "      <td>2,60,000</td>\n",
       "      <td>27,000 kms</td>\n",
       "      <td>Diesel</td>\n",
       "    </tr>\n",
       "    <tr>\n",
       "      <th>889</th>\n",
       "      <td>Mahindra Quanto C8</td>\n",
       "      <td>Mahindra</td>\n",
       "      <td>2013</td>\n",
       "      <td>3,90,000</td>\n",
       "      <td>40,000 kms</td>\n",
       "      <td>Diesel</td>\n",
       "    </tr>\n",
       "    <tr>\n",
       "      <th>890</th>\n",
       "      <td>Honda Amaze 1.2 E i VTEC</td>\n",
       "      <td>Honda</td>\n",
       "      <td>2014</td>\n",
       "      <td>1,80,000</td>\n",
       "      <td>Petrol</td>\n",
       "      <td>NaN</td>\n",
       "    </tr>\n",
       "    <tr>\n",
       "      <th>891</th>\n",
       "      <td>Chevrolet Sail 1.2 LT ABS</td>\n",
       "      <td>Chevrolet</td>\n",
       "      <td>2014</td>\n",
       "      <td>1,60,000</td>\n",
       "      <td>Petrol</td>\n",
       "      <td>NaN</td>\n",
       "    </tr>\n",
       "  </tbody>\n",
       "</table>\n",
       "<p>842 rows × 6 columns</p>\n",
       "</div>"
      ],
      "text/plain": [
       "                                       name    company  year          Price  \\\n",
       "0      Hyundai Santro Xing XO eRLX Euro III    Hyundai  2007         80,000   \n",
       "1                   Mahindra Jeep CL550 MDI   Mahindra  2006       4,25,000   \n",
       "2                Maruti Suzuki Alto 800 Vxi     Maruti  2018  Ask For Price   \n",
       "3    Hyundai Grand i10 Magna 1.2 Kappa VTVT    Hyundai  2014       3,25,000   \n",
       "4          Ford EcoSport Titanium 1.5L TDCi       Ford  2014       5,75,000   \n",
       "..                                      ...        ...   ...            ...   \n",
       "886                    Toyota Corolla Altis     Toyota  2009       3,00,000   \n",
       "888                     Tata Zest XM Diesel       Tata  2018       2,60,000   \n",
       "889                      Mahindra Quanto C8   Mahindra  2013       3,90,000   \n",
       "890                Honda Amaze 1.2 E i VTEC      Honda  2014       1,80,000   \n",
       "891               Chevrolet Sail 1.2 LT ABS  Chevrolet  2014       1,60,000   \n",
       "\n",
       "       kms_driven fuel_type  \n",
       "0      45,000 kms    Petrol  \n",
       "1          40 kms    Diesel  \n",
       "2      22,000 kms    Petrol  \n",
       "3      28,000 kms    Petrol  \n",
       "4      36,000 kms    Diesel  \n",
       "..            ...       ...  \n",
       "886  1,32,000 kms    Petrol  \n",
       "888    27,000 kms    Diesel  \n",
       "889    40,000 kms    Diesel  \n",
       "890        Petrol       NaN  \n",
       "891        Petrol       NaN  \n",
       "\n",
       "[842 rows x 6 columns]"
      ]
     },
     "execution_count": 10,
     "metadata": {},
     "output_type": "execute_result"
    }
   ],
   "source": [
    "car[car['year'].str.isnumeric()] # here we only see those cars which has numeric value"
   ]
  },
  {
   "cell_type": "code",
   "execution_count": 11,
   "id": "3eaefe8e",
   "metadata": {
    "execution": {
     "iopub.execute_input": "2025-05-16T13:50:09.522129Z",
     "iopub.status.busy": "2025-05-16T13:50:09.521672Z",
     "iopub.status.idle": "2025-05-16T13:50:09.528165Z",
     "shell.execute_reply": "2025-05-16T13:50:09.527076Z"
    },
    "papermill": {
     "duration": 0.023951,
     "end_time": "2025-05-16T13:50:09.529881",
     "exception": false,
     "start_time": "2025-05-16T13:50:09.505930",
     "status": "completed"
    },
    "tags": []
   },
   "outputs": [],
   "source": [
    "car=car[car['year'].str.isnumeric()]"
   ]
  },
  {
   "cell_type": "code",
   "execution_count": 12,
   "id": "11eeaf4e",
   "metadata": {
    "execution": {
     "iopub.execute_input": "2025-05-16T13:50:09.556881Z",
     "iopub.status.busy": "2025-05-16T13:50:09.555763Z",
     "iopub.status.idle": "2025-05-16T13:50:09.570958Z",
     "shell.execute_reply": "2025-05-16T13:50:09.569979Z"
    },
    "papermill": {
     "duration": 0.028774,
     "end_time": "2025-05-16T13:50:09.573168",
     "exception": false,
     "start_time": "2025-05-16T13:50:09.544394",
     "status": "completed"
    },
    "tags": []
   },
   "outputs": [
    {
     "name": "stdout",
     "output_type": "stream",
     "text": [
      "<class 'pandas.core.frame.DataFrame'>\n",
      "Index: 842 entries, 0 to 891\n",
      "Data columns (total 6 columns):\n",
      " #   Column      Non-Null Count  Dtype \n",
      "---  ------      --------------  ----- \n",
      " 0   name        842 non-null    object\n",
      " 1   company     842 non-null    object\n",
      " 2   year        842 non-null    object\n",
      " 3   Price       842 non-null    object\n",
      " 4   kms_driven  840 non-null    object\n",
      " 5   fuel_type   837 non-null    object\n",
      "dtypes: object(6)\n",
      "memory usage: 46.0+ KB\n"
     ]
    }
   ],
   "source": [
    "car.info()"
   ]
  },
  {
   "cell_type": "code",
   "execution_count": 13,
   "id": "c3cdbfb0",
   "metadata": {
    "execution": {
     "iopub.execute_input": "2025-05-16T13:50:09.596860Z",
     "iopub.status.busy": "2025-05-16T13:50:09.596570Z",
     "iopub.status.idle": "2025-05-16T13:50:09.604567Z",
     "shell.execute_reply": "2025-05-16T13:50:09.603557Z"
    },
    "papermill": {
     "duration": 0.02105,
     "end_time": "2025-05-16T13:50:09.606091",
     "exception": false,
     "start_time": "2025-05-16T13:50:09.585041",
     "status": "completed"
    },
    "tags": []
   },
   "outputs": [
    {
     "data": {
      "text/plain": [
       "0      2007\n",
       "1      2006\n",
       "2      2018\n",
       "3      2014\n",
       "4      2014\n",
       "       ... \n",
       "886    2009\n",
       "888    2018\n",
       "889    2013\n",
       "890    2014\n",
       "891    2014\n",
       "Name: year, Length: 842, dtype: int64"
      ]
     },
     "execution_count": 13,
     "metadata": {},
     "output_type": "execute_result"
    }
   ],
   "source": [
    "car['year'].astype(int) #convert all object into int "
   ]
  },
  {
   "cell_type": "code",
   "execution_count": 14,
   "id": "e1877954",
   "metadata": {
    "execution": {
     "iopub.execute_input": "2025-05-16T13:50:09.627900Z",
     "iopub.status.busy": "2025-05-16T13:50:09.627601Z",
     "iopub.status.idle": "2025-05-16T13:50:09.633312Z",
     "shell.execute_reply": "2025-05-16T13:50:09.632512Z"
    },
    "papermill": {
     "duration": 0.018283,
     "end_time": "2025-05-16T13:50:09.634886",
     "exception": false,
     "start_time": "2025-05-16T13:50:09.616603",
     "status": "completed"
    },
    "tags": []
   },
   "outputs": [],
   "source": [
    "car['year']=car['year'].astype(int)"
   ]
  },
  {
   "cell_type": "code",
   "execution_count": 15,
   "id": "f85c6ebf",
   "metadata": {
    "execution": {
     "iopub.execute_input": "2025-05-16T13:50:09.737669Z",
     "iopub.status.busy": "2025-05-16T13:50:09.737290Z",
     "iopub.status.idle": "2025-05-16T13:50:09.755352Z",
     "shell.execute_reply": "2025-05-16T13:50:09.754129Z"
    },
    "papermill": {
     "duration": 0.112264,
     "end_time": "2025-05-16T13:50:09.757379",
     "exception": false,
     "start_time": "2025-05-16T13:50:09.645115",
     "status": "completed"
    },
    "tags": []
   },
   "outputs": [
    {
     "data": {
      "text/html": [
       "<div>\n",
       "<style scoped>\n",
       "    .dataframe tbody tr th:only-of-type {\n",
       "        vertical-align: middle;\n",
       "    }\n",
       "\n",
       "    .dataframe tbody tr th {\n",
       "        vertical-align: top;\n",
       "    }\n",
       "\n",
       "    .dataframe thead th {\n",
       "        text-align: right;\n",
       "    }\n",
       "</style>\n",
       "<table border=\"1\" class=\"dataframe\">\n",
       "  <thead>\n",
       "    <tr style=\"text-align: right;\">\n",
       "      <th></th>\n",
       "      <th>name</th>\n",
       "      <th>company</th>\n",
       "      <th>year</th>\n",
       "      <th>Price</th>\n",
       "      <th>kms_driven</th>\n",
       "      <th>fuel_type</th>\n",
       "    </tr>\n",
       "  </thead>\n",
       "  <tbody>\n",
       "    <tr>\n",
       "      <th>0</th>\n",
       "      <td>Hyundai Santro Xing XO eRLX Euro III</td>\n",
       "      <td>Hyundai</td>\n",
       "      <td>2007</td>\n",
       "      <td>80,000</td>\n",
       "      <td>45,000 kms</td>\n",
       "      <td>Petrol</td>\n",
       "    </tr>\n",
       "    <tr>\n",
       "      <th>1</th>\n",
       "      <td>Mahindra Jeep CL550 MDI</td>\n",
       "      <td>Mahindra</td>\n",
       "      <td>2006</td>\n",
       "      <td>4,25,000</td>\n",
       "      <td>40 kms</td>\n",
       "      <td>Diesel</td>\n",
       "    </tr>\n",
       "    <tr>\n",
       "      <th>3</th>\n",
       "      <td>Hyundai Grand i10 Magna 1.2 Kappa VTVT</td>\n",
       "      <td>Hyundai</td>\n",
       "      <td>2014</td>\n",
       "      <td>3,25,000</td>\n",
       "      <td>28,000 kms</td>\n",
       "      <td>Petrol</td>\n",
       "    </tr>\n",
       "    <tr>\n",
       "      <th>4</th>\n",
       "      <td>Ford EcoSport Titanium 1.5L TDCi</td>\n",
       "      <td>Ford</td>\n",
       "      <td>2014</td>\n",
       "      <td>5,75,000</td>\n",
       "      <td>36,000 kms</td>\n",
       "      <td>Diesel</td>\n",
       "    </tr>\n",
       "    <tr>\n",
       "      <th>6</th>\n",
       "      <td>Ford Figo</td>\n",
       "      <td>Ford</td>\n",
       "      <td>2012</td>\n",
       "      <td>1,75,000</td>\n",
       "      <td>41,000 kms</td>\n",
       "      <td>Diesel</td>\n",
       "    </tr>\n",
       "    <tr>\n",
       "      <th>...</th>\n",
       "      <td>...</td>\n",
       "      <td>...</td>\n",
       "      <td>...</td>\n",
       "      <td>...</td>\n",
       "      <td>...</td>\n",
       "      <td>...</td>\n",
       "    </tr>\n",
       "    <tr>\n",
       "      <th>886</th>\n",
       "      <td>Toyota Corolla Altis</td>\n",
       "      <td>Toyota</td>\n",
       "      <td>2009</td>\n",
       "      <td>3,00,000</td>\n",
       "      <td>1,32,000 kms</td>\n",
       "      <td>Petrol</td>\n",
       "    </tr>\n",
       "    <tr>\n",
       "      <th>888</th>\n",
       "      <td>Tata Zest XM Diesel</td>\n",
       "      <td>Tata</td>\n",
       "      <td>2018</td>\n",
       "      <td>2,60,000</td>\n",
       "      <td>27,000 kms</td>\n",
       "      <td>Diesel</td>\n",
       "    </tr>\n",
       "    <tr>\n",
       "      <th>889</th>\n",
       "      <td>Mahindra Quanto C8</td>\n",
       "      <td>Mahindra</td>\n",
       "      <td>2013</td>\n",
       "      <td>3,90,000</td>\n",
       "      <td>40,000 kms</td>\n",
       "      <td>Diesel</td>\n",
       "    </tr>\n",
       "    <tr>\n",
       "      <th>890</th>\n",
       "      <td>Honda Amaze 1.2 E i VTEC</td>\n",
       "      <td>Honda</td>\n",
       "      <td>2014</td>\n",
       "      <td>1,80,000</td>\n",
       "      <td>Petrol</td>\n",
       "      <td>NaN</td>\n",
       "    </tr>\n",
       "    <tr>\n",
       "      <th>891</th>\n",
       "      <td>Chevrolet Sail 1.2 LT ABS</td>\n",
       "      <td>Chevrolet</td>\n",
       "      <td>2014</td>\n",
       "      <td>1,60,000</td>\n",
       "      <td>Petrol</td>\n",
       "      <td>NaN</td>\n",
       "    </tr>\n",
       "  </tbody>\n",
       "</table>\n",
       "<p>819 rows × 6 columns</p>\n",
       "</div>"
      ],
      "text/plain": [
       "                                       name    company  year     Price  \\\n",
       "0      Hyundai Santro Xing XO eRLX Euro III    Hyundai  2007    80,000   \n",
       "1                   Mahindra Jeep CL550 MDI   Mahindra  2006  4,25,000   \n",
       "3    Hyundai Grand i10 Magna 1.2 Kappa VTVT    Hyundai  2014  3,25,000   \n",
       "4          Ford EcoSport Titanium 1.5L TDCi       Ford  2014  5,75,000   \n",
       "6                                 Ford Figo       Ford  2012  1,75,000   \n",
       "..                                      ...        ...   ...       ...   \n",
       "886                    Toyota Corolla Altis     Toyota  2009  3,00,000   \n",
       "888                     Tata Zest XM Diesel       Tata  2018  2,60,000   \n",
       "889                      Mahindra Quanto C8   Mahindra  2013  3,90,000   \n",
       "890                Honda Amaze 1.2 E i VTEC      Honda  2014  1,80,000   \n",
       "891               Chevrolet Sail 1.2 LT ABS  Chevrolet  2014  1,60,000   \n",
       "\n",
       "       kms_driven fuel_type  \n",
       "0      45,000 kms    Petrol  \n",
       "1          40 kms    Diesel  \n",
       "3      28,000 kms    Petrol  \n",
       "4      36,000 kms    Diesel  \n",
       "6      41,000 kms    Diesel  \n",
       "..            ...       ...  \n",
       "886  1,32,000 kms    Petrol  \n",
       "888    27,000 kms    Diesel  \n",
       "889    40,000 kms    Diesel  \n",
       "890        Petrol       NaN  \n",
       "891        Petrol       NaN  \n",
       "\n",
       "[819 rows x 6 columns]"
      ]
     },
     "execution_count": 15,
     "metadata": {},
     "output_type": "execute_result"
    }
   ],
   "source": [
    "car[car['Price']!=\"Ask For Price\"] # remove ask for price row from data"
   ]
  },
  {
   "cell_type": "code",
   "execution_count": 16,
   "id": "897b0f24",
   "metadata": {
    "execution": {
     "iopub.execute_input": "2025-05-16T13:50:09.780033Z",
     "iopub.status.busy": "2025-05-16T13:50:09.779628Z",
     "iopub.status.idle": "2025-05-16T13:50:09.785583Z",
     "shell.execute_reply": "2025-05-16T13:50:09.784678Z"
    },
    "papermill": {
     "duration": 0.01897,
     "end_time": "2025-05-16T13:50:09.787187",
     "exception": false,
     "start_time": "2025-05-16T13:50:09.768217",
     "status": "completed"
    },
    "tags": []
   },
   "outputs": [],
   "source": [
    "car=car[car['Price']!=\"Ask For Price\"]"
   ]
  },
  {
   "cell_type": "code",
   "execution_count": 17,
   "id": "37f3dd40",
   "metadata": {
    "execution": {
     "iopub.execute_input": "2025-05-16T13:50:09.808799Z",
     "iopub.status.busy": "2025-05-16T13:50:09.808537Z",
     "iopub.status.idle": "2025-05-16T13:50:09.816385Z",
     "shell.execute_reply": "2025-05-16T13:50:09.815358Z"
    },
    "papermill": {
     "duration": 0.020657,
     "end_time": "2025-05-16T13:50:09.818188",
     "exception": false,
     "start_time": "2025-05-16T13:50:09.797531",
     "status": "completed"
    },
    "tags": []
   },
   "outputs": [
    {
     "data": {
      "text/plain": [
       "0       80000\n",
       "1      425000\n",
       "3      325000\n",
       "4      575000\n",
       "6      175000\n",
       "        ...  \n",
       "886    300000\n",
       "888    260000\n",
       "889    390000\n",
       "890    180000\n",
       "891    160000\n",
       "Name: Price, Length: 819, dtype: int64"
      ]
     },
     "execution_count": 17,
     "metadata": {},
     "output_type": "execute_result"
    }
   ],
   "source": [
    "car['Price'].str.replace(',','').astype(int) # replace , with nothing just join them and onyl int\n"
   ]
  },
  {
   "cell_type": "code",
   "execution_count": 18,
   "id": "48cee9a0",
   "metadata": {
    "execution": {
     "iopub.execute_input": "2025-05-16T13:50:09.841347Z",
     "iopub.status.busy": "2025-05-16T13:50:09.840823Z",
     "iopub.status.idle": "2025-05-16T13:50:09.847592Z",
     "shell.execute_reply": "2025-05-16T13:50:09.846545Z"
    },
    "papermill": {
     "duration": 0.020467,
     "end_time": "2025-05-16T13:50:09.849295",
     "exception": false,
     "start_time": "2025-05-16T13:50:09.828828",
     "status": "completed"
    },
    "tags": []
   },
   "outputs": [],
   "source": [
    "car['Price']=car['Price'].str.replace(',','').astype(int)"
   ]
  },
  {
   "cell_type": "code",
   "execution_count": 19,
   "id": "16e01672",
   "metadata": {
    "execution": {
     "iopub.execute_input": "2025-05-16T13:50:09.871611Z",
     "iopub.status.busy": "2025-05-16T13:50:09.871163Z",
     "iopub.status.idle": "2025-05-16T13:50:09.881305Z",
     "shell.execute_reply": "2025-05-16T13:50:09.880321Z"
    },
    "papermill": {
     "duration": 0.023379,
     "end_time": "2025-05-16T13:50:09.883086",
     "exception": false,
     "start_time": "2025-05-16T13:50:09.859707",
     "status": "completed"
    },
    "tags": []
   },
   "outputs": [
    {
     "data": {
      "text/plain": [
       "0       45000\n",
       "1          40\n",
       "3       28000\n",
       "4       36000\n",
       "6       41000\n",
       "        ...  \n",
       "886    132000\n",
       "888     27000\n",
       "889     40000\n",
       "890    Petrol\n",
       "891    Petrol\n",
       "Name: kms_driven, Length: 819, dtype: object"
      ]
     },
     "execution_count": 19,
     "metadata": {},
     "output_type": "execute_result"
    }
   ],
   "source": [
    "car['kms_driven'].str.split().str.get(0).str.replace(',','') # split into a list than take 0 index and remove ,"
   ]
  },
  {
   "cell_type": "code",
   "execution_count": 20,
   "id": "cd83428f",
   "metadata": {
    "execution": {
     "iopub.execute_input": "2025-05-16T13:50:09.906077Z",
     "iopub.status.busy": "2025-05-16T13:50:09.905766Z",
     "iopub.status.idle": "2025-05-16T13:50:09.912864Z",
     "shell.execute_reply": "2025-05-16T13:50:09.911994Z"
    },
    "papermill": {
     "duration": 0.020744,
     "end_time": "2025-05-16T13:50:09.914362",
     "exception": false,
     "start_time": "2025-05-16T13:50:09.893618",
     "status": "completed"
    },
    "tags": []
   },
   "outputs": [],
   "source": [
    "car['kms_driven']=car['kms_driven'].str.split().str.get(0).str.replace(',','')"
   ]
  },
  {
   "cell_type": "code",
   "execution_count": 21,
   "id": "42cf7e4a",
   "metadata": {
    "execution": {
     "iopub.execute_input": "2025-05-16T13:50:09.938054Z",
     "iopub.status.busy": "2025-05-16T13:50:09.937752Z",
     "iopub.status.idle": "2025-05-16T13:50:09.945028Z",
     "shell.execute_reply": "2025-05-16T13:50:09.944018Z"
    },
    "papermill": {
     "duration": 0.02077,
     "end_time": "2025-05-16T13:50:09.946702",
     "exception": false,
     "start_time": "2025-05-16T13:50:09.925932",
     "status": "completed"
    },
    "tags": []
   },
   "outputs": [],
   "source": [
    "car=car[car['kms_driven'].str.isnumeric()] # we remove term like petrol diesel to keep only numeric value"
   ]
  },
  {
   "cell_type": "code",
   "execution_count": 22,
   "id": "84ddfa0c",
   "metadata": {
    "execution": {
     "iopub.execute_input": "2025-05-16T13:50:09.969868Z",
     "iopub.status.busy": "2025-05-16T13:50:09.969566Z",
     "iopub.status.idle": "2025-05-16T13:50:09.982531Z",
     "shell.execute_reply": "2025-05-16T13:50:09.981582Z"
    },
    "papermill": {
     "duration": 0.026573,
     "end_time": "2025-05-16T13:50:09.984026",
     "exception": false,
     "start_time": "2025-05-16T13:50:09.957453",
     "status": "completed"
    },
    "tags": []
   },
   "outputs": [
    {
     "name": "stdout",
     "output_type": "stream",
     "text": [
      "<class 'pandas.core.frame.DataFrame'>\n",
      "Index: 817 entries, 0 to 889\n",
      "Data columns (total 6 columns):\n",
      " #   Column      Non-Null Count  Dtype \n",
      "---  ------      --------------  ----- \n",
      " 0   name        817 non-null    object\n",
      " 1   company     817 non-null    object\n",
      " 2   year        817 non-null    int64 \n",
      " 3   Price       817 non-null    int64 \n",
      " 4   kms_driven  817 non-null    object\n",
      " 5   fuel_type   816 non-null    object\n",
      "dtypes: int64(2), object(4)\n",
      "memory usage: 44.7+ KB\n"
     ]
    }
   ],
   "source": [
    "car.info() # but still it has some object so we convert it into int\n"
   ]
  },
  {
   "cell_type": "code",
   "execution_count": 23,
   "id": "82ec298f",
   "metadata": {
    "execution": {
     "iopub.execute_input": "2025-05-16T13:50:10.016020Z",
     "iopub.status.busy": "2025-05-16T13:50:10.015626Z",
     "iopub.status.idle": "2025-05-16T13:50:10.022481Z",
     "shell.execute_reply": "2025-05-16T13:50:10.021551Z"
    },
    "papermill": {
     "duration": 0.026301,
     "end_time": "2025-05-16T13:50:10.024463",
     "exception": false,
     "start_time": "2025-05-16T13:50:09.998162",
     "status": "completed"
    },
    "tags": []
   },
   "outputs": [],
   "source": [
    "car['kms_driven']=car['kms_driven'].astype(int)"
   ]
  },
  {
   "cell_type": "code",
   "execution_count": 24,
   "id": "804af116",
   "metadata": {
    "execution": {
     "iopub.execute_input": "2025-05-16T13:50:10.059845Z",
     "iopub.status.busy": "2025-05-16T13:50:10.059574Z",
     "iopub.status.idle": "2025-05-16T13:50:10.070065Z",
     "shell.execute_reply": "2025-05-16T13:50:10.068993Z"
    },
    "papermill": {
     "duration": 0.026057,
     "end_time": "2025-05-16T13:50:10.071945",
     "exception": false,
     "start_time": "2025-05-16T13:50:10.045888",
     "status": "completed"
    },
    "tags": []
   },
   "outputs": [
    {
     "data": {
      "text/html": [
       "<div>\n",
       "<style scoped>\n",
       "    .dataframe tbody tr th:only-of-type {\n",
       "        vertical-align: middle;\n",
       "    }\n",
       "\n",
       "    .dataframe tbody tr th {\n",
       "        vertical-align: top;\n",
       "    }\n",
       "\n",
       "    .dataframe thead th {\n",
       "        text-align: right;\n",
       "    }\n",
       "</style>\n",
       "<table border=\"1\" class=\"dataframe\">\n",
       "  <thead>\n",
       "    <tr style=\"text-align: right;\">\n",
       "      <th></th>\n",
       "      <th>name</th>\n",
       "      <th>company</th>\n",
       "      <th>year</th>\n",
       "      <th>Price</th>\n",
       "      <th>kms_driven</th>\n",
       "      <th>fuel_type</th>\n",
       "    </tr>\n",
       "  </thead>\n",
       "  <tbody>\n",
       "    <tr>\n",
       "      <th>0</th>\n",
       "      <td>Hyundai Santro Xing XO eRLX Euro III</td>\n",
       "      <td>Hyundai</td>\n",
       "      <td>2007</td>\n",
       "      <td>80000</td>\n",
       "      <td>45000</td>\n",
       "      <td>Petrol</td>\n",
       "    </tr>\n",
       "    <tr>\n",
       "      <th>1</th>\n",
       "      <td>Mahindra Jeep CL550 MDI</td>\n",
       "      <td>Mahindra</td>\n",
       "      <td>2006</td>\n",
       "      <td>425000</td>\n",
       "      <td>40</td>\n",
       "      <td>Diesel</td>\n",
       "    </tr>\n",
       "    <tr>\n",
       "      <th>3</th>\n",
       "      <td>Hyundai Grand i10 Magna 1.2 Kappa VTVT</td>\n",
       "      <td>Hyundai</td>\n",
       "      <td>2014</td>\n",
       "      <td>325000</td>\n",
       "      <td>28000</td>\n",
       "      <td>Petrol</td>\n",
       "    </tr>\n",
       "    <tr>\n",
       "      <th>4</th>\n",
       "      <td>Ford EcoSport Titanium 1.5L TDCi</td>\n",
       "      <td>Ford</td>\n",
       "      <td>2014</td>\n",
       "      <td>575000</td>\n",
       "      <td>36000</td>\n",
       "      <td>Diesel</td>\n",
       "    </tr>\n",
       "    <tr>\n",
       "      <th>6</th>\n",
       "      <td>Ford Figo</td>\n",
       "      <td>Ford</td>\n",
       "      <td>2012</td>\n",
       "      <td>175000</td>\n",
       "      <td>41000</td>\n",
       "      <td>Diesel</td>\n",
       "    </tr>\n",
       "  </tbody>\n",
       "</table>\n",
       "</div>"
      ],
      "text/plain": [
       "                                     name   company  year   Price  kms_driven  \\\n",
       "0    Hyundai Santro Xing XO eRLX Euro III   Hyundai  2007   80000       45000   \n",
       "1                 Mahindra Jeep CL550 MDI  Mahindra  2006  425000          40   \n",
       "3  Hyundai Grand i10 Magna 1.2 Kappa VTVT   Hyundai  2014  325000       28000   \n",
       "4        Ford EcoSport Titanium 1.5L TDCi      Ford  2014  575000       36000   \n",
       "6                               Ford Figo      Ford  2012  175000       41000   \n",
       "\n",
       "  fuel_type  \n",
       "0    Petrol  \n",
       "1    Diesel  \n",
       "3    Petrol  \n",
       "4    Diesel  \n",
       "6    Diesel  "
      ]
     },
     "execution_count": 24,
     "metadata": {},
     "output_type": "execute_result"
    }
   ],
   "source": [
    "car.head()"
   ]
  },
  {
   "cell_type": "code",
   "execution_count": 25,
   "id": "4d1c085e",
   "metadata": {
    "execution": {
     "iopub.execute_input": "2025-05-16T13:50:10.100378Z",
     "iopub.status.busy": "2025-05-16T13:50:10.100054Z",
     "iopub.status.idle": "2025-05-16T13:50:10.112332Z",
     "shell.execute_reply": "2025-05-16T13:50:10.110964Z"
    },
    "papermill": {
     "duration": 0.030098,
     "end_time": "2025-05-16T13:50:10.114846",
     "exception": false,
     "start_time": "2025-05-16T13:50:10.084748",
     "status": "completed"
    },
    "tags": []
   },
   "outputs": [
    {
     "data": {
      "text/html": [
       "<div>\n",
       "<style scoped>\n",
       "    .dataframe tbody tr th:only-of-type {\n",
       "        vertical-align: middle;\n",
       "    }\n",
       "\n",
       "    .dataframe tbody tr th {\n",
       "        vertical-align: top;\n",
       "    }\n",
       "\n",
       "    .dataframe thead th {\n",
       "        text-align: right;\n",
       "    }\n",
       "</style>\n",
       "<table border=\"1\" class=\"dataframe\">\n",
       "  <thead>\n",
       "    <tr style=\"text-align: right;\">\n",
       "      <th></th>\n",
       "      <th>name</th>\n",
       "      <th>company</th>\n",
       "      <th>year</th>\n",
       "      <th>Price</th>\n",
       "      <th>kms_driven</th>\n",
       "      <th>fuel_type</th>\n",
       "    </tr>\n",
       "  </thead>\n",
       "  <tbody>\n",
       "    <tr>\n",
       "      <th>132</th>\n",
       "      <td>Toyota Corolla</td>\n",
       "      <td>Toyota</td>\n",
       "      <td>2009</td>\n",
       "      <td>275000</td>\n",
       "      <td>26000</td>\n",
       "      <td>NaN</td>\n",
       "    </tr>\n",
       "  </tbody>\n",
       "</table>\n",
       "</div>"
      ],
      "text/plain": [
       "               name company  year   Price  kms_driven fuel_type\n",
       "132  Toyota Corolla  Toyota  2009  275000       26000       NaN"
      ]
     },
     "execution_count": 25,
     "metadata": {},
     "output_type": "execute_result"
    }
   ],
   "source": [
    "car[car['fuel_type'].isna()] # we have to remove this row"
   ]
  },
  {
   "cell_type": "code",
   "execution_count": 26,
   "id": "ff9e4d21",
   "metadata": {
    "execution": {
     "iopub.execute_input": "2025-05-16T13:50:10.139216Z",
     "iopub.status.busy": "2025-05-16T13:50:10.138914Z",
     "iopub.status.idle": "2025-05-16T13:50:10.146909Z",
     "shell.execute_reply": "2025-05-16T13:50:10.145733Z"
    },
    "papermill": {
     "duration": 0.0218,
     "end_time": "2025-05-16T13:50:10.148534",
     "exception": false,
     "start_time": "2025-05-16T13:50:10.126734",
     "status": "completed"
    },
    "tags": []
   },
   "outputs": [],
   "source": [
    " car=car[~car['fuel_type'].isna()]# ~ used to remove the row"
   ]
  },
  {
   "cell_type": "code",
   "execution_count": 27,
   "id": "812736e1",
   "metadata": {
    "execution": {
     "iopub.execute_input": "2025-05-16T13:50:10.172313Z",
     "iopub.status.busy": "2025-05-16T13:50:10.172010Z",
     "iopub.status.idle": "2025-05-16T13:50:10.183215Z",
     "shell.execute_reply": "2025-05-16T13:50:10.182127Z"
    },
    "papermill": {
     "duration": 0.024571,
     "end_time": "2025-05-16T13:50:10.185198",
     "exception": false,
     "start_time": "2025-05-16T13:50:10.160627",
     "status": "completed"
    },
    "tags": []
   },
   "outputs": [
    {
     "name": "stdout",
     "output_type": "stream",
     "text": [
      "<class 'pandas.core.frame.DataFrame'>\n",
      "Index: 816 entries, 0 to 889\n",
      "Data columns (total 6 columns):\n",
      " #   Column      Non-Null Count  Dtype \n",
      "---  ------      --------------  ----- \n",
      " 0   name        816 non-null    object\n",
      " 1   company     816 non-null    object\n",
      " 2   year        816 non-null    int64 \n",
      " 3   Price       816 non-null    int64 \n",
      " 4   kms_driven  816 non-null    int64 \n",
      " 5   fuel_type   816 non-null    object\n",
      "dtypes: int64(3), object(3)\n",
      "memory usage: 44.6+ KB\n"
     ]
    }
   ],
   "source": [
    "car.info()"
   ]
  },
  {
   "cell_type": "code",
   "execution_count": 28,
   "id": "a2760e0d",
   "metadata": {
    "execution": {
     "iopub.execute_input": "2025-05-16T13:50:10.209026Z",
     "iopub.status.busy": "2025-05-16T13:50:10.208757Z",
     "iopub.status.idle": "2025-05-16T13:50:10.219993Z",
     "shell.execute_reply": "2025-05-16T13:50:10.218626Z"
    },
    "papermill": {
     "duration": 0.024954,
     "end_time": "2025-05-16T13:50:10.221449",
     "exception": false,
     "start_time": "2025-05-16T13:50:10.196495",
     "status": "completed"
    },
    "tags": []
   },
   "outputs": [
    {
     "data": {
      "text/plain": [
       "0         [Hyundai, Santro, Xing]\n",
       "1         [Mahindra, Jeep, CL550]\n",
       "3           [Hyundai, Grand, i10]\n",
       "4      [Ford, EcoSport, Titanium]\n",
       "6                    [Ford, Figo]\n",
       "                  ...            \n",
       "883        [Maruti, Suzuki, Ritz]\n",
       "885            [Tata, Indica, V2]\n",
       "886      [Toyota, Corolla, Altis]\n",
       "888              [Tata, Zest, XM]\n",
       "889        [Mahindra, Quanto, C8]\n",
       "Name: name, Length: 816, dtype: object"
      ]
     },
     "execution_count": 28,
     "metadata": {},
     "output_type": "execute_result"
    }
   ],
   "source": [
    "car['name'].str.split().str.slice(0,3) # here we split into list and take only first three index by slicing\n"
   ]
  },
  {
   "cell_type": "code",
   "execution_count": 29,
   "id": "b24ec0a9",
   "metadata": {
    "execution": {
     "iopub.execute_input": "2025-05-16T13:50:10.243796Z",
     "iopub.status.busy": "2025-05-16T13:50:10.243530Z",
     "iopub.status.idle": "2025-05-16T13:50:10.251855Z",
     "shell.execute_reply": "2025-05-16T13:50:10.250635Z"
    },
    "papermill": {
     "duration": 0.02115,
     "end_time": "2025-05-16T13:50:10.253237",
     "exception": false,
     "start_time": "2025-05-16T13:50:10.232087",
     "status": "completed"
    },
    "tags": []
   },
   "outputs": [],
   "source": [
    "car['name']=car['name'].str.split().str.slice(0,3).str.join('')"
   ]
  },
  {
   "cell_type": "code",
   "execution_count": 30,
   "id": "8469956d",
   "metadata": {
    "execution": {
     "iopub.execute_input": "2025-05-16T13:50:10.277161Z",
     "iopub.status.busy": "2025-05-16T13:50:10.276839Z",
     "iopub.status.idle": "2025-05-16T13:50:10.289630Z",
     "shell.execute_reply": "2025-05-16T13:50:10.288639Z"
    },
    "papermill": {
     "duration": 0.027116,
     "end_time": "2025-05-16T13:50:10.291122",
     "exception": false,
     "start_time": "2025-05-16T13:50:10.264006",
     "status": "completed"
    },
    "tags": []
   },
   "outputs": [
    {
     "data": {
      "text/html": [
       "<div>\n",
       "<style scoped>\n",
       "    .dataframe tbody tr th:only-of-type {\n",
       "        vertical-align: middle;\n",
       "    }\n",
       "\n",
       "    .dataframe tbody tr th {\n",
       "        vertical-align: top;\n",
       "    }\n",
       "\n",
       "    .dataframe thead th {\n",
       "        text-align: right;\n",
       "    }\n",
       "</style>\n",
       "<table border=\"1\" class=\"dataframe\">\n",
       "  <thead>\n",
       "    <tr style=\"text-align: right;\">\n",
       "      <th></th>\n",
       "      <th>name</th>\n",
       "      <th>company</th>\n",
       "      <th>year</th>\n",
       "      <th>Price</th>\n",
       "      <th>kms_driven</th>\n",
       "      <th>fuel_type</th>\n",
       "    </tr>\n",
       "  </thead>\n",
       "  <tbody>\n",
       "    <tr>\n",
       "      <th>0</th>\n",
       "      <td>HyundaiSantroXing</td>\n",
       "      <td>Hyundai</td>\n",
       "      <td>2007</td>\n",
       "      <td>80000</td>\n",
       "      <td>45000</td>\n",
       "      <td>Petrol</td>\n",
       "    </tr>\n",
       "    <tr>\n",
       "      <th>1</th>\n",
       "      <td>MahindraJeepCL550</td>\n",
       "      <td>Mahindra</td>\n",
       "      <td>2006</td>\n",
       "      <td>425000</td>\n",
       "      <td>40</td>\n",
       "      <td>Diesel</td>\n",
       "    </tr>\n",
       "    <tr>\n",
       "      <th>3</th>\n",
       "      <td>HyundaiGrandi10</td>\n",
       "      <td>Hyundai</td>\n",
       "      <td>2014</td>\n",
       "      <td>325000</td>\n",
       "      <td>28000</td>\n",
       "      <td>Petrol</td>\n",
       "    </tr>\n",
       "    <tr>\n",
       "      <th>4</th>\n",
       "      <td>FordEcoSportTitanium</td>\n",
       "      <td>Ford</td>\n",
       "      <td>2014</td>\n",
       "      <td>575000</td>\n",
       "      <td>36000</td>\n",
       "      <td>Diesel</td>\n",
       "    </tr>\n",
       "    <tr>\n",
       "      <th>6</th>\n",
       "      <td>FordFigo</td>\n",
       "      <td>Ford</td>\n",
       "      <td>2012</td>\n",
       "      <td>175000</td>\n",
       "      <td>41000</td>\n",
       "      <td>Diesel</td>\n",
       "    </tr>\n",
       "    <tr>\n",
       "      <th>...</th>\n",
       "      <td>...</td>\n",
       "      <td>...</td>\n",
       "      <td>...</td>\n",
       "      <td>...</td>\n",
       "      <td>...</td>\n",
       "      <td>...</td>\n",
       "    </tr>\n",
       "    <tr>\n",
       "      <th>883</th>\n",
       "      <td>MarutiSuzukiRitz</td>\n",
       "      <td>Maruti</td>\n",
       "      <td>2011</td>\n",
       "      <td>270000</td>\n",
       "      <td>50000</td>\n",
       "      <td>Petrol</td>\n",
       "    </tr>\n",
       "    <tr>\n",
       "      <th>885</th>\n",
       "      <td>TataIndicaV2</td>\n",
       "      <td>Tata</td>\n",
       "      <td>2009</td>\n",
       "      <td>110000</td>\n",
       "      <td>30000</td>\n",
       "      <td>Diesel</td>\n",
       "    </tr>\n",
       "    <tr>\n",
       "      <th>886</th>\n",
       "      <td>ToyotaCorollaAltis</td>\n",
       "      <td>Toyota</td>\n",
       "      <td>2009</td>\n",
       "      <td>300000</td>\n",
       "      <td>132000</td>\n",
       "      <td>Petrol</td>\n",
       "    </tr>\n",
       "    <tr>\n",
       "      <th>888</th>\n",
       "      <td>TataZestXM</td>\n",
       "      <td>Tata</td>\n",
       "      <td>2018</td>\n",
       "      <td>260000</td>\n",
       "      <td>27000</td>\n",
       "      <td>Diesel</td>\n",
       "    </tr>\n",
       "    <tr>\n",
       "      <th>889</th>\n",
       "      <td>MahindraQuantoC8</td>\n",
       "      <td>Mahindra</td>\n",
       "      <td>2013</td>\n",
       "      <td>390000</td>\n",
       "      <td>40000</td>\n",
       "      <td>Diesel</td>\n",
       "    </tr>\n",
       "  </tbody>\n",
       "</table>\n",
       "<p>816 rows × 6 columns</p>\n",
       "</div>"
      ],
      "text/plain": [
       "                     name   company  year   Price  kms_driven fuel_type\n",
       "0       HyundaiSantroXing   Hyundai  2007   80000       45000    Petrol\n",
       "1       MahindraJeepCL550  Mahindra  2006  425000          40    Diesel\n",
       "3         HyundaiGrandi10   Hyundai  2014  325000       28000    Petrol\n",
       "4    FordEcoSportTitanium      Ford  2014  575000       36000    Diesel\n",
       "6                FordFigo      Ford  2012  175000       41000    Diesel\n",
       "..                    ...       ...   ...     ...         ...       ...\n",
       "883      MarutiSuzukiRitz    Maruti  2011  270000       50000    Petrol\n",
       "885          TataIndicaV2      Tata  2009  110000       30000    Diesel\n",
       "886    ToyotaCorollaAltis    Toyota  2009  300000      132000    Petrol\n",
       "888            TataZestXM      Tata  2018  260000       27000    Diesel\n",
       "889      MahindraQuantoC8  Mahindra  2013  390000       40000    Diesel\n",
       "\n",
       "[816 rows x 6 columns]"
      ]
     },
     "execution_count": 30,
     "metadata": {},
     "output_type": "execute_result"
    }
   ],
   "source": [
    "car # we have to reset index"
   ]
  },
  {
   "cell_type": "code",
   "execution_count": 31,
   "id": "a4334e2b",
   "metadata": {
    "execution": {
     "iopub.execute_input": "2025-05-16T13:50:10.316219Z",
     "iopub.status.busy": "2025-05-16T13:50:10.315954Z",
     "iopub.status.idle": "2025-05-16T13:50:10.330445Z",
     "shell.execute_reply": "2025-05-16T13:50:10.329315Z"
    },
    "papermill": {
     "duration": 0.030487,
     "end_time": "2025-05-16T13:50:10.333014",
     "exception": false,
     "start_time": "2025-05-16T13:50:10.302527",
     "status": "completed"
    },
    "tags": []
   },
   "outputs": [
    {
     "data": {
      "text/html": [
       "<div>\n",
       "<style scoped>\n",
       "    .dataframe tbody tr th:only-of-type {\n",
       "        vertical-align: middle;\n",
       "    }\n",
       "\n",
       "    .dataframe tbody tr th {\n",
       "        vertical-align: top;\n",
       "    }\n",
       "\n",
       "    .dataframe thead th {\n",
       "        text-align: right;\n",
       "    }\n",
       "</style>\n",
       "<table border=\"1\" class=\"dataframe\">\n",
       "  <thead>\n",
       "    <tr style=\"text-align: right;\">\n",
       "      <th></th>\n",
       "      <th>name</th>\n",
       "      <th>company</th>\n",
       "      <th>year</th>\n",
       "      <th>Price</th>\n",
       "      <th>kms_driven</th>\n",
       "      <th>fuel_type</th>\n",
       "    </tr>\n",
       "  </thead>\n",
       "  <tbody>\n",
       "    <tr>\n",
       "      <th>0</th>\n",
       "      <td>HyundaiSantroXing</td>\n",
       "      <td>Hyundai</td>\n",
       "      <td>2007</td>\n",
       "      <td>80000</td>\n",
       "      <td>45000</td>\n",
       "      <td>Petrol</td>\n",
       "    </tr>\n",
       "    <tr>\n",
       "      <th>1</th>\n",
       "      <td>MahindraJeepCL550</td>\n",
       "      <td>Mahindra</td>\n",
       "      <td>2006</td>\n",
       "      <td>425000</td>\n",
       "      <td>40</td>\n",
       "      <td>Diesel</td>\n",
       "    </tr>\n",
       "    <tr>\n",
       "      <th>2</th>\n",
       "      <td>HyundaiGrandi10</td>\n",
       "      <td>Hyundai</td>\n",
       "      <td>2014</td>\n",
       "      <td>325000</td>\n",
       "      <td>28000</td>\n",
       "      <td>Petrol</td>\n",
       "    </tr>\n",
       "    <tr>\n",
       "      <th>3</th>\n",
       "      <td>FordEcoSportTitanium</td>\n",
       "      <td>Ford</td>\n",
       "      <td>2014</td>\n",
       "      <td>575000</td>\n",
       "      <td>36000</td>\n",
       "      <td>Diesel</td>\n",
       "    </tr>\n",
       "    <tr>\n",
       "      <th>4</th>\n",
       "      <td>FordFigo</td>\n",
       "      <td>Ford</td>\n",
       "      <td>2012</td>\n",
       "      <td>175000</td>\n",
       "      <td>41000</td>\n",
       "      <td>Diesel</td>\n",
       "    </tr>\n",
       "    <tr>\n",
       "      <th>...</th>\n",
       "      <td>...</td>\n",
       "      <td>...</td>\n",
       "      <td>...</td>\n",
       "      <td>...</td>\n",
       "      <td>...</td>\n",
       "      <td>...</td>\n",
       "    </tr>\n",
       "    <tr>\n",
       "      <th>811</th>\n",
       "      <td>MarutiSuzukiRitz</td>\n",
       "      <td>Maruti</td>\n",
       "      <td>2011</td>\n",
       "      <td>270000</td>\n",
       "      <td>50000</td>\n",
       "      <td>Petrol</td>\n",
       "    </tr>\n",
       "    <tr>\n",
       "      <th>812</th>\n",
       "      <td>TataIndicaV2</td>\n",
       "      <td>Tata</td>\n",
       "      <td>2009</td>\n",
       "      <td>110000</td>\n",
       "      <td>30000</td>\n",
       "      <td>Diesel</td>\n",
       "    </tr>\n",
       "    <tr>\n",
       "      <th>813</th>\n",
       "      <td>ToyotaCorollaAltis</td>\n",
       "      <td>Toyota</td>\n",
       "      <td>2009</td>\n",
       "      <td>300000</td>\n",
       "      <td>132000</td>\n",
       "      <td>Petrol</td>\n",
       "    </tr>\n",
       "    <tr>\n",
       "      <th>814</th>\n",
       "      <td>TataZestXM</td>\n",
       "      <td>Tata</td>\n",
       "      <td>2018</td>\n",
       "      <td>260000</td>\n",
       "      <td>27000</td>\n",
       "      <td>Diesel</td>\n",
       "    </tr>\n",
       "    <tr>\n",
       "      <th>815</th>\n",
       "      <td>MahindraQuantoC8</td>\n",
       "      <td>Mahindra</td>\n",
       "      <td>2013</td>\n",
       "      <td>390000</td>\n",
       "      <td>40000</td>\n",
       "      <td>Diesel</td>\n",
       "    </tr>\n",
       "  </tbody>\n",
       "</table>\n",
       "<p>816 rows × 6 columns</p>\n",
       "</div>"
      ],
      "text/plain": [
       "                     name   company  year   Price  kms_driven fuel_type\n",
       "0       HyundaiSantroXing   Hyundai  2007   80000       45000    Petrol\n",
       "1       MahindraJeepCL550  Mahindra  2006  425000          40    Diesel\n",
       "2         HyundaiGrandi10   Hyundai  2014  325000       28000    Petrol\n",
       "3    FordEcoSportTitanium      Ford  2014  575000       36000    Diesel\n",
       "4                FordFigo      Ford  2012  175000       41000    Diesel\n",
       "..                    ...       ...   ...     ...         ...       ...\n",
       "811      MarutiSuzukiRitz    Maruti  2011  270000       50000    Petrol\n",
       "812          TataIndicaV2      Tata  2009  110000       30000    Diesel\n",
       "813    ToyotaCorollaAltis    Toyota  2009  300000      132000    Petrol\n",
       "814            TataZestXM      Tata  2018  260000       27000    Diesel\n",
       "815      MahindraQuantoC8  Mahindra  2013  390000       40000    Diesel\n",
       "\n",
       "[816 rows x 6 columns]"
      ]
     },
     "execution_count": 31,
     "metadata": {},
     "output_type": "execute_result"
    }
   ],
   "source": [
    "car.reset_index(drop=True)"
   ]
  },
  {
   "cell_type": "code",
   "execution_count": 32,
   "id": "1acd4f6f",
   "metadata": {
    "execution": {
     "iopub.execute_input": "2025-05-16T13:50:10.357562Z",
     "iopub.status.busy": "2025-05-16T13:50:10.357232Z",
     "iopub.status.idle": "2025-05-16T13:50:10.368609Z",
     "shell.execute_reply": "2025-05-16T13:50:10.367370Z"
    },
    "papermill": {
     "duration": 0.025586,
     "end_time": "2025-05-16T13:50:10.370177",
     "exception": false,
     "start_time": "2025-05-16T13:50:10.344591",
     "status": "completed"
    },
    "tags": []
   },
   "outputs": [
    {
     "name": "stdout",
     "output_type": "stream",
     "text": [
      "<class 'pandas.core.frame.DataFrame'>\n",
      "Index: 816 entries, 0 to 889\n",
      "Data columns (total 6 columns):\n",
      " #   Column      Non-Null Count  Dtype \n",
      "---  ------      --------------  ----- \n",
      " 0   name        816 non-null    object\n",
      " 1   company     816 non-null    object\n",
      " 2   year        816 non-null    int64 \n",
      " 3   Price       816 non-null    int64 \n",
      " 4   kms_driven  816 non-null    int64 \n",
      " 5   fuel_type   816 non-null    object\n",
      "dtypes: int64(3), object(3)\n",
      "memory usage: 44.6+ KB\n"
     ]
    }
   ],
   "source": [
    "car.info()"
   ]
  },
  {
   "cell_type": "code",
   "execution_count": 33,
   "id": "fa1c3699",
   "metadata": {
    "execution": {
     "iopub.execute_input": "2025-05-16T13:50:10.396653Z",
     "iopub.status.busy": "2025-05-16T13:50:10.396363Z",
     "iopub.status.idle": "2025-05-16T13:50:10.423958Z",
     "shell.execute_reply": "2025-05-16T13:50:10.422649Z"
    },
    "papermill": {
     "duration": 0.043692,
     "end_time": "2025-05-16T13:50:10.425469",
     "exception": false,
     "start_time": "2025-05-16T13:50:10.381777",
     "status": "completed"
    },
    "tags": []
   },
   "outputs": [
    {
     "data": {
      "text/html": [
       "<div>\n",
       "<style scoped>\n",
       "    .dataframe tbody tr th:only-of-type {\n",
       "        vertical-align: middle;\n",
       "    }\n",
       "\n",
       "    .dataframe tbody tr th {\n",
       "        vertical-align: top;\n",
       "    }\n",
       "\n",
       "    .dataframe thead th {\n",
       "        text-align: right;\n",
       "    }\n",
       "</style>\n",
       "<table border=\"1\" class=\"dataframe\">\n",
       "  <thead>\n",
       "    <tr style=\"text-align: right;\">\n",
       "      <th></th>\n",
       "      <th>year</th>\n",
       "      <th>Price</th>\n",
       "      <th>kms_driven</th>\n",
       "    </tr>\n",
       "  </thead>\n",
       "  <tbody>\n",
       "    <tr>\n",
       "      <th>count</th>\n",
       "      <td>816.000000</td>\n",
       "      <td>8.160000e+02</td>\n",
       "      <td>816.000000</td>\n",
       "    </tr>\n",
       "    <tr>\n",
       "      <th>mean</th>\n",
       "      <td>2012.444853</td>\n",
       "      <td>4.117176e+05</td>\n",
       "      <td>46275.531863</td>\n",
       "    </tr>\n",
       "    <tr>\n",
       "      <th>std</th>\n",
       "      <td>4.002992</td>\n",
       "      <td>4.751844e+05</td>\n",
       "      <td>34297.428044</td>\n",
       "    </tr>\n",
       "    <tr>\n",
       "      <th>min</th>\n",
       "      <td>1995.000000</td>\n",
       "      <td>3.000000e+04</td>\n",
       "      <td>0.000000</td>\n",
       "    </tr>\n",
       "    <tr>\n",
       "      <th>25%</th>\n",
       "      <td>2010.000000</td>\n",
       "      <td>1.750000e+05</td>\n",
       "      <td>27000.000000</td>\n",
       "    </tr>\n",
       "    <tr>\n",
       "      <th>50%</th>\n",
       "      <td>2013.000000</td>\n",
       "      <td>2.999990e+05</td>\n",
       "      <td>41000.000000</td>\n",
       "    </tr>\n",
       "    <tr>\n",
       "      <th>75%</th>\n",
       "      <td>2015.000000</td>\n",
       "      <td>4.912500e+05</td>\n",
       "      <td>56818.500000</td>\n",
       "    </tr>\n",
       "    <tr>\n",
       "      <th>max</th>\n",
       "      <td>2019.000000</td>\n",
       "      <td>8.500003e+06</td>\n",
       "      <td>400000.000000</td>\n",
       "    </tr>\n",
       "  </tbody>\n",
       "</table>\n",
       "</div>"
      ],
      "text/plain": [
       "              year         Price     kms_driven\n",
       "count   816.000000  8.160000e+02     816.000000\n",
       "mean   2012.444853  4.117176e+05   46275.531863\n",
       "std       4.002992  4.751844e+05   34297.428044\n",
       "min    1995.000000  3.000000e+04       0.000000\n",
       "25%    2010.000000  1.750000e+05   27000.000000\n",
       "50%    2013.000000  2.999990e+05   41000.000000\n",
       "75%    2015.000000  4.912500e+05   56818.500000\n",
       "max    2019.000000  8.500003e+06  400000.000000"
      ]
     },
     "execution_count": 33,
     "metadata": {},
     "output_type": "execute_result"
    }
   ],
   "source": [
    "car.describe() # here we can see 75% cars are under 5 lakh so there is an outlier "
   ]
  },
  {
   "cell_type": "code",
   "execution_count": 34,
   "id": "b6cc3174",
   "metadata": {
    "execution": {
     "iopub.execute_input": "2025-05-16T13:50:10.451175Z",
     "iopub.status.busy": "2025-05-16T13:50:10.450854Z",
     "iopub.status.idle": "2025-05-16T13:50:10.461434Z",
     "shell.execute_reply": "2025-05-16T13:50:10.460296Z"
    },
    "papermill": {
     "duration": 0.025855,
     "end_time": "2025-05-16T13:50:10.463083",
     "exception": false,
     "start_time": "2025-05-16T13:50:10.437228",
     "status": "completed"
    },
    "tags": []
   },
   "outputs": [
    {
     "data": {
      "text/html": [
       "<div>\n",
       "<style scoped>\n",
       "    .dataframe tbody tr th:only-of-type {\n",
       "        vertical-align: middle;\n",
       "    }\n",
       "\n",
       "    .dataframe tbody tr th {\n",
       "        vertical-align: top;\n",
       "    }\n",
       "\n",
       "    .dataframe thead th {\n",
       "        text-align: right;\n",
       "    }\n",
       "</style>\n",
       "<table border=\"1\" class=\"dataframe\">\n",
       "  <thead>\n",
       "    <tr style=\"text-align: right;\">\n",
       "      <th></th>\n",
       "      <th>name</th>\n",
       "      <th>company</th>\n",
       "      <th>year</th>\n",
       "      <th>Price</th>\n",
       "      <th>kms_driven</th>\n",
       "      <th>fuel_type</th>\n",
       "    </tr>\n",
       "  </thead>\n",
       "  <tbody>\n",
       "    <tr>\n",
       "      <th>562</th>\n",
       "      <td>MahindraXUV500W6</td>\n",
       "      <td>Mahindra</td>\n",
       "      <td>2014</td>\n",
       "      <td>8500003</td>\n",
       "      <td>45000</td>\n",
       "      <td>Diesel</td>\n",
       "    </tr>\n",
       "  </tbody>\n",
       "</table>\n",
       "</div>"
      ],
      "text/plain": [
       "                 name   company  year    Price  kms_driven fuel_type\n",
       "562  MahindraXUV500W6  Mahindra  2014  8500003       45000    Diesel"
      ]
     },
     "execution_count": 34,
     "metadata": {},
     "output_type": "execute_result"
    }
   ],
   "source": [
    "car[car['Price']>6e6]  # here only one car is more tthan 6 lakh so it is outlier"
   ]
  },
  {
   "cell_type": "code",
   "execution_count": 35,
   "id": "c84266a8",
   "metadata": {
    "execution": {
     "iopub.execute_input": "2025-05-16T13:50:10.488777Z",
     "iopub.status.busy": "2025-05-16T13:50:10.488480Z",
     "iopub.status.idle": "2025-05-16T13:50:10.501554Z",
     "shell.execute_reply": "2025-05-16T13:50:10.500483Z"
    },
    "papermill": {
     "duration": 0.027006,
     "end_time": "2025-05-16T13:50:10.503112",
     "exception": false,
     "start_time": "2025-05-16T13:50:10.476106",
     "status": "completed"
    },
    "tags": []
   },
   "outputs": [
    {
     "data": {
      "text/html": [
       "<div>\n",
       "<style scoped>\n",
       "    .dataframe tbody tr th:only-of-type {\n",
       "        vertical-align: middle;\n",
       "    }\n",
       "\n",
       "    .dataframe tbody tr th {\n",
       "        vertical-align: top;\n",
       "    }\n",
       "\n",
       "    .dataframe thead th {\n",
       "        text-align: right;\n",
       "    }\n",
       "</style>\n",
       "<table border=\"1\" class=\"dataframe\">\n",
       "  <thead>\n",
       "    <tr style=\"text-align: right;\">\n",
       "      <th></th>\n",
       "      <th>name</th>\n",
       "      <th>company</th>\n",
       "      <th>year</th>\n",
       "      <th>Price</th>\n",
       "      <th>kms_driven</th>\n",
       "      <th>fuel_type</th>\n",
       "    </tr>\n",
       "  </thead>\n",
       "  <tbody>\n",
       "    <tr>\n",
       "      <th>0</th>\n",
       "      <td>HyundaiSantroXing</td>\n",
       "      <td>Hyundai</td>\n",
       "      <td>2007</td>\n",
       "      <td>80000</td>\n",
       "      <td>45000</td>\n",
       "      <td>Petrol</td>\n",
       "    </tr>\n",
       "    <tr>\n",
       "      <th>1</th>\n",
       "      <td>MahindraJeepCL550</td>\n",
       "      <td>Mahindra</td>\n",
       "      <td>2006</td>\n",
       "      <td>425000</td>\n",
       "      <td>40</td>\n",
       "      <td>Diesel</td>\n",
       "    </tr>\n",
       "    <tr>\n",
       "      <th>3</th>\n",
       "      <td>HyundaiGrandi10</td>\n",
       "      <td>Hyundai</td>\n",
       "      <td>2014</td>\n",
       "      <td>325000</td>\n",
       "      <td>28000</td>\n",
       "      <td>Petrol</td>\n",
       "    </tr>\n",
       "    <tr>\n",
       "      <th>4</th>\n",
       "      <td>FordEcoSportTitanium</td>\n",
       "      <td>Ford</td>\n",
       "      <td>2014</td>\n",
       "      <td>575000</td>\n",
       "      <td>36000</td>\n",
       "      <td>Diesel</td>\n",
       "    </tr>\n",
       "    <tr>\n",
       "      <th>6</th>\n",
       "      <td>FordFigo</td>\n",
       "      <td>Ford</td>\n",
       "      <td>2012</td>\n",
       "      <td>175000</td>\n",
       "      <td>41000</td>\n",
       "      <td>Diesel</td>\n",
       "    </tr>\n",
       "    <tr>\n",
       "      <th>...</th>\n",
       "      <td>...</td>\n",
       "      <td>...</td>\n",
       "      <td>...</td>\n",
       "      <td>...</td>\n",
       "      <td>...</td>\n",
       "      <td>...</td>\n",
       "    </tr>\n",
       "    <tr>\n",
       "      <th>883</th>\n",
       "      <td>MarutiSuzukiRitz</td>\n",
       "      <td>Maruti</td>\n",
       "      <td>2011</td>\n",
       "      <td>270000</td>\n",
       "      <td>50000</td>\n",
       "      <td>Petrol</td>\n",
       "    </tr>\n",
       "    <tr>\n",
       "      <th>885</th>\n",
       "      <td>TataIndicaV2</td>\n",
       "      <td>Tata</td>\n",
       "      <td>2009</td>\n",
       "      <td>110000</td>\n",
       "      <td>30000</td>\n",
       "      <td>Diesel</td>\n",
       "    </tr>\n",
       "    <tr>\n",
       "      <th>886</th>\n",
       "      <td>ToyotaCorollaAltis</td>\n",
       "      <td>Toyota</td>\n",
       "      <td>2009</td>\n",
       "      <td>300000</td>\n",
       "      <td>132000</td>\n",
       "      <td>Petrol</td>\n",
       "    </tr>\n",
       "    <tr>\n",
       "      <th>888</th>\n",
       "      <td>TataZestXM</td>\n",
       "      <td>Tata</td>\n",
       "      <td>2018</td>\n",
       "      <td>260000</td>\n",
       "      <td>27000</td>\n",
       "      <td>Diesel</td>\n",
       "    </tr>\n",
       "    <tr>\n",
       "      <th>889</th>\n",
       "      <td>MahindraQuantoC8</td>\n",
       "      <td>Mahindra</td>\n",
       "      <td>2013</td>\n",
       "      <td>390000</td>\n",
       "      <td>40000</td>\n",
       "      <td>Diesel</td>\n",
       "    </tr>\n",
       "  </tbody>\n",
       "</table>\n",
       "<p>815 rows × 6 columns</p>\n",
       "</div>"
      ],
      "text/plain": [
       "                     name   company  year   Price  kms_driven fuel_type\n",
       "0       HyundaiSantroXing   Hyundai  2007   80000       45000    Petrol\n",
       "1       MahindraJeepCL550  Mahindra  2006  425000          40    Diesel\n",
       "3         HyundaiGrandi10   Hyundai  2014  325000       28000    Petrol\n",
       "4    FordEcoSportTitanium      Ford  2014  575000       36000    Diesel\n",
       "6                FordFigo      Ford  2012  175000       41000    Diesel\n",
       "..                    ...       ...   ...     ...         ...       ...\n",
       "883      MarutiSuzukiRitz    Maruti  2011  270000       50000    Petrol\n",
       "885          TataIndicaV2      Tata  2009  110000       30000    Diesel\n",
       "886    ToyotaCorollaAltis    Toyota  2009  300000      132000    Petrol\n",
       "888            TataZestXM      Tata  2018  260000       27000    Diesel\n",
       "889      MahindraQuantoC8  Mahindra  2013  390000       40000    Diesel\n",
       "\n",
       "[815 rows x 6 columns]"
      ]
     },
     "execution_count": 35,
     "metadata": {},
     "output_type": "execute_result"
    }
   ],
   "source": [
    "car[car['Price']<6e6] "
   ]
  },
  {
   "cell_type": "code",
   "execution_count": 36,
   "id": "127bbd2c",
   "metadata": {
    "execution": {
     "iopub.execute_input": "2025-05-16T13:50:10.530307Z",
     "iopub.status.busy": "2025-05-16T13:50:10.529909Z",
     "iopub.status.idle": "2025-05-16T13:50:10.538439Z",
     "shell.execute_reply": "2025-05-16T13:50:10.537352Z"
    },
    "papermill": {
     "duration": 0.024582,
     "end_time": "2025-05-16T13:50:10.540364",
     "exception": false,
     "start_time": "2025-05-16T13:50:10.515782",
     "status": "completed"
    },
    "tags": []
   },
   "outputs": [],
   "source": [
    " car=car[car['Price']<6e6].reset_index(drop=True)"
   ]
  },
  {
   "cell_type": "code",
   "execution_count": 37,
   "id": "d916aed2",
   "metadata": {
    "execution": {
     "iopub.execute_input": "2025-05-16T13:50:10.566493Z",
     "iopub.status.busy": "2025-05-16T13:50:10.566154Z",
     "iopub.status.idle": "2025-05-16T13:50:10.577659Z",
     "shell.execute_reply": "2025-05-16T13:50:10.576759Z"
    },
    "papermill": {
     "duration": 0.026434,
     "end_time": "2025-05-16T13:50:10.579039",
     "exception": false,
     "start_time": "2025-05-16T13:50:10.552605",
     "status": "completed"
    },
    "tags": []
   },
   "outputs": [
    {
     "data": {
      "text/html": [
       "<div>\n",
       "<style scoped>\n",
       "    .dataframe tbody tr th:only-of-type {\n",
       "        vertical-align: middle;\n",
       "    }\n",
       "\n",
       "    .dataframe tbody tr th {\n",
       "        vertical-align: top;\n",
       "    }\n",
       "\n",
       "    .dataframe thead th {\n",
       "        text-align: right;\n",
       "    }\n",
       "</style>\n",
       "<table border=\"1\" class=\"dataframe\">\n",
       "  <thead>\n",
       "    <tr style=\"text-align: right;\">\n",
       "      <th></th>\n",
       "      <th>name</th>\n",
       "      <th>company</th>\n",
       "      <th>year</th>\n",
       "      <th>Price</th>\n",
       "      <th>kms_driven</th>\n",
       "      <th>fuel_type</th>\n",
       "    </tr>\n",
       "  </thead>\n",
       "  <tbody>\n",
       "    <tr>\n",
       "      <th>0</th>\n",
       "      <td>HyundaiSantroXing</td>\n",
       "      <td>Hyundai</td>\n",
       "      <td>2007</td>\n",
       "      <td>80000</td>\n",
       "      <td>45000</td>\n",
       "      <td>Petrol</td>\n",
       "    </tr>\n",
       "    <tr>\n",
       "      <th>1</th>\n",
       "      <td>MahindraJeepCL550</td>\n",
       "      <td>Mahindra</td>\n",
       "      <td>2006</td>\n",
       "      <td>425000</td>\n",
       "      <td>40</td>\n",
       "      <td>Diesel</td>\n",
       "    </tr>\n",
       "    <tr>\n",
       "      <th>2</th>\n",
       "      <td>HyundaiGrandi10</td>\n",
       "      <td>Hyundai</td>\n",
       "      <td>2014</td>\n",
       "      <td>325000</td>\n",
       "      <td>28000</td>\n",
       "      <td>Petrol</td>\n",
       "    </tr>\n",
       "    <tr>\n",
       "      <th>3</th>\n",
       "      <td>FordEcoSportTitanium</td>\n",
       "      <td>Ford</td>\n",
       "      <td>2014</td>\n",
       "      <td>575000</td>\n",
       "      <td>36000</td>\n",
       "      <td>Diesel</td>\n",
       "    </tr>\n",
       "    <tr>\n",
       "      <th>4</th>\n",
       "      <td>FordFigo</td>\n",
       "      <td>Ford</td>\n",
       "      <td>2012</td>\n",
       "      <td>175000</td>\n",
       "      <td>41000</td>\n",
       "      <td>Diesel</td>\n",
       "    </tr>\n",
       "    <tr>\n",
       "      <th>...</th>\n",
       "      <td>...</td>\n",
       "      <td>...</td>\n",
       "      <td>...</td>\n",
       "      <td>...</td>\n",
       "      <td>...</td>\n",
       "      <td>...</td>\n",
       "    </tr>\n",
       "    <tr>\n",
       "      <th>810</th>\n",
       "      <td>MarutiSuzukiRitz</td>\n",
       "      <td>Maruti</td>\n",
       "      <td>2011</td>\n",
       "      <td>270000</td>\n",
       "      <td>50000</td>\n",
       "      <td>Petrol</td>\n",
       "    </tr>\n",
       "    <tr>\n",
       "      <th>811</th>\n",
       "      <td>TataIndicaV2</td>\n",
       "      <td>Tata</td>\n",
       "      <td>2009</td>\n",
       "      <td>110000</td>\n",
       "      <td>30000</td>\n",
       "      <td>Diesel</td>\n",
       "    </tr>\n",
       "    <tr>\n",
       "      <th>812</th>\n",
       "      <td>ToyotaCorollaAltis</td>\n",
       "      <td>Toyota</td>\n",
       "      <td>2009</td>\n",
       "      <td>300000</td>\n",
       "      <td>132000</td>\n",
       "      <td>Petrol</td>\n",
       "    </tr>\n",
       "    <tr>\n",
       "      <th>813</th>\n",
       "      <td>TataZestXM</td>\n",
       "      <td>Tata</td>\n",
       "      <td>2018</td>\n",
       "      <td>260000</td>\n",
       "      <td>27000</td>\n",
       "      <td>Diesel</td>\n",
       "    </tr>\n",
       "    <tr>\n",
       "      <th>814</th>\n",
       "      <td>MahindraQuantoC8</td>\n",
       "      <td>Mahindra</td>\n",
       "      <td>2013</td>\n",
       "      <td>390000</td>\n",
       "      <td>40000</td>\n",
       "      <td>Diesel</td>\n",
       "    </tr>\n",
       "  </tbody>\n",
       "</table>\n",
       "<p>815 rows × 6 columns</p>\n",
       "</div>"
      ],
      "text/plain": [
       "                     name   company  year   Price  kms_driven fuel_type\n",
       "0       HyundaiSantroXing   Hyundai  2007   80000       45000    Petrol\n",
       "1       MahindraJeepCL550  Mahindra  2006  425000          40    Diesel\n",
       "2         HyundaiGrandi10   Hyundai  2014  325000       28000    Petrol\n",
       "3    FordEcoSportTitanium      Ford  2014  575000       36000    Diesel\n",
       "4                FordFigo      Ford  2012  175000       41000    Diesel\n",
       "..                    ...       ...   ...     ...         ...       ...\n",
       "810      MarutiSuzukiRitz    Maruti  2011  270000       50000    Petrol\n",
       "811          TataIndicaV2      Tata  2009  110000       30000    Diesel\n",
       "812    ToyotaCorollaAltis    Toyota  2009  300000      132000    Petrol\n",
       "813            TataZestXM      Tata  2018  260000       27000    Diesel\n",
       "814      MahindraQuantoC8  Mahindra  2013  390000       40000    Diesel\n",
       "\n",
       "[815 rows x 6 columns]"
      ]
     },
     "execution_count": 37,
     "metadata": {},
     "output_type": "execute_result"
    }
   ],
   "source": [
    "car"
   ]
  },
  {
   "cell_type": "code",
   "execution_count": 38,
   "id": "ab7abb32",
   "metadata": {
    "execution": {
     "iopub.execute_input": "2025-05-16T13:50:10.605023Z",
     "iopub.status.busy": "2025-05-16T13:50:10.604708Z",
     "iopub.status.idle": "2025-05-16T13:50:10.617003Z",
     "shell.execute_reply": "2025-05-16T13:50:10.616153Z"
    },
    "papermill": {
     "duration": 0.026852,
     "end_time": "2025-05-16T13:50:10.618600",
     "exception": false,
     "start_time": "2025-05-16T13:50:10.591748",
     "status": "completed"
    },
    "tags": []
   },
   "outputs": [],
   "source": [
    "car.to_csv('Cleaned Car.csv') #saved a cleaned data"
   ]
  },
  {
   "cell_type": "markdown",
   "id": "25b13a35",
   "metadata": {
    "papermill": {
     "duration": 0.011387,
     "end_time": "2025-05-16T13:50:10.641863",
     "exception": false,
     "start_time": "2025-05-16T13:50:10.630476",
     "status": "completed"
    },
    "tags": []
   },
   "source": [
    "# *MODEL*"
   ]
  },
  {
   "cell_type": "code",
   "execution_count": 39,
   "id": "79a2c135",
   "metadata": {
    "execution": {
     "iopub.execute_input": "2025-05-16T13:50:10.667340Z",
     "iopub.status.busy": "2025-05-16T13:50:10.666991Z",
     "iopub.status.idle": "2025-05-16T13:50:10.672713Z",
     "shell.execute_reply": "2025-05-16T13:50:10.671766Z"
    },
    "papermill": {
     "duration": 0.020454,
     "end_time": "2025-05-16T13:50:10.674364",
     "exception": false,
     "start_time": "2025-05-16T13:50:10.653910",
     "status": "completed"
    },
    "tags": []
   },
   "outputs": [],
   "source": [
    "X=car.drop(columns='Price') # independent feature\n",
    "y=car['Price']"
   ]
  },
  {
   "cell_type": "code",
   "execution_count": 40,
   "id": "80ab6b86",
   "metadata": {
    "execution": {
     "iopub.execute_input": "2025-05-16T13:50:10.700345Z",
     "iopub.status.busy": "2025-05-16T13:50:10.700006Z",
     "iopub.status.idle": "2025-05-16T13:50:12.516946Z",
     "shell.execute_reply": "2025-05-16T13:50:12.515661Z"
    },
    "papermill": {
     "duration": 1.831944,
     "end_time": "2025-05-16T13:50:12.518495",
     "exception": false,
     "start_time": "2025-05-16T13:50:10.686551",
     "status": "completed"
    },
    "tags": []
   },
   "outputs": [],
   "source": [
    "from sklearn.model_selection import train_test_split\n",
    "X_train, X_test, y_train, y_test = train_test_split(\n",
    "    X, y, test_size=0.2)"
   ]
  },
  {
   "cell_type": "code",
   "execution_count": 41,
   "id": "c2588d49",
   "metadata": {
    "execution": {
     "iopub.execute_input": "2025-05-16T13:50:12.550061Z",
     "iopub.status.busy": "2025-05-16T13:50:12.549629Z",
     "iopub.status.idle": "2025-05-16T13:50:12.711529Z",
     "shell.execute_reply": "2025-05-16T13:50:12.710563Z"
    },
    "papermill": {
     "duration": 0.181415,
     "end_time": "2025-05-16T13:50:12.713823",
     "exception": false,
     "start_time": "2025-05-16T13:50:12.532408",
     "status": "completed"
    },
    "tags": []
   },
   "outputs": [],
   "source": [
    "from sklearn.linear_model import LinearRegression\n",
    "from sklearn.metrics import r2_score\n",
    "from sklearn.preprocessing import OneHotEncoder\n",
    "from sklearn.compose import make_column_transformer\n",
    "from sklearn.pipeline import make_pipeline"
   ]
  },
  {
   "cell_type": "code",
   "execution_count": 42,
   "id": "d156f1f3",
   "metadata": {
    "execution": {
     "iopub.execute_input": "2025-05-16T13:50:12.740011Z",
     "iopub.status.busy": "2025-05-16T13:50:12.739619Z",
     "iopub.status.idle": "2025-05-16T13:50:12.754981Z",
     "shell.execute_reply": "2025-05-16T13:50:12.754059Z"
    },
    "papermill": {
     "duration": 0.030363,
     "end_time": "2025-05-16T13:50:12.756774",
     "exception": false,
     "start_time": "2025-05-16T13:50:12.726411",
     "status": "completed"
    },
    "tags": []
   },
   "outputs": [
    {
     "data": {
      "text/html": [
       "<style>#sk-container-id-1 {color: black;background-color: white;}#sk-container-id-1 pre{padding: 0;}#sk-container-id-1 div.sk-toggleable {background-color: white;}#sk-container-id-1 label.sk-toggleable__label {cursor: pointer;display: block;width: 100%;margin-bottom: 0;padding: 0.3em;box-sizing: border-box;text-align: center;}#sk-container-id-1 label.sk-toggleable__label-arrow:before {content: \"▸\";float: left;margin-right: 0.25em;color: #696969;}#sk-container-id-1 label.sk-toggleable__label-arrow:hover:before {color: black;}#sk-container-id-1 div.sk-estimator:hover label.sk-toggleable__label-arrow:before {color: black;}#sk-container-id-1 div.sk-toggleable__content {max-height: 0;max-width: 0;overflow: hidden;text-align: left;background-color: #f0f8ff;}#sk-container-id-1 div.sk-toggleable__content pre {margin: 0.2em;color: black;border-radius: 0.25em;background-color: #f0f8ff;}#sk-container-id-1 input.sk-toggleable__control:checked~div.sk-toggleable__content {max-height: 200px;max-width: 100%;overflow: auto;}#sk-container-id-1 input.sk-toggleable__control:checked~label.sk-toggleable__label-arrow:before {content: \"▾\";}#sk-container-id-1 div.sk-estimator input.sk-toggleable__control:checked~label.sk-toggleable__label {background-color: #d4ebff;}#sk-container-id-1 div.sk-label input.sk-toggleable__control:checked~label.sk-toggleable__label {background-color: #d4ebff;}#sk-container-id-1 input.sk-hidden--visually {border: 0;clip: rect(1px 1px 1px 1px);clip: rect(1px, 1px, 1px, 1px);height: 1px;margin: -1px;overflow: hidden;padding: 0;position: absolute;width: 1px;}#sk-container-id-1 div.sk-estimator {font-family: monospace;background-color: #f0f8ff;border: 1px dotted black;border-radius: 0.25em;box-sizing: border-box;margin-bottom: 0.5em;}#sk-container-id-1 div.sk-estimator:hover {background-color: #d4ebff;}#sk-container-id-1 div.sk-parallel-item::after {content: \"\";width: 100%;border-bottom: 1px solid gray;flex-grow: 1;}#sk-container-id-1 div.sk-label:hover label.sk-toggleable__label {background-color: #d4ebff;}#sk-container-id-1 div.sk-serial::before {content: \"\";position: absolute;border-left: 1px solid gray;box-sizing: border-box;top: 0;bottom: 0;left: 50%;z-index: 0;}#sk-container-id-1 div.sk-serial {display: flex;flex-direction: column;align-items: center;background-color: white;padding-right: 0.2em;padding-left: 0.2em;position: relative;}#sk-container-id-1 div.sk-item {position: relative;z-index: 1;}#sk-container-id-1 div.sk-parallel {display: flex;align-items: stretch;justify-content: center;background-color: white;position: relative;}#sk-container-id-1 div.sk-item::before, #sk-container-id-1 div.sk-parallel-item::before {content: \"\";position: absolute;border-left: 1px solid gray;box-sizing: border-box;top: 0;bottom: 0;left: 50%;z-index: -1;}#sk-container-id-1 div.sk-parallel-item {display: flex;flex-direction: column;z-index: 1;position: relative;background-color: white;}#sk-container-id-1 div.sk-parallel-item:first-child::after {align-self: flex-end;width: 50%;}#sk-container-id-1 div.sk-parallel-item:last-child::after {align-self: flex-start;width: 50%;}#sk-container-id-1 div.sk-parallel-item:only-child::after {width: 0;}#sk-container-id-1 div.sk-dashed-wrapped {border: 1px dashed gray;margin: 0 0.4em 0.5em 0.4em;box-sizing: border-box;padding-bottom: 0.4em;background-color: white;}#sk-container-id-1 div.sk-label label {font-family: monospace;font-weight: bold;display: inline-block;line-height: 1.2em;}#sk-container-id-1 div.sk-label-container {text-align: center;}#sk-container-id-1 div.sk-container {/* jupyter's `normalize.less` sets `[hidden] { display: none; }` but bootstrap.min.css set `[hidden] { display: none !important; }` so we also need the `!important` here to be able to override the default hidden behavior on the sphinx rendered scikit-learn.org. See: https://github.com/scikit-learn/scikit-learn/issues/21755 */display: inline-block !important;position: relative;}#sk-container-id-1 div.sk-text-repr-fallback {display: none;}</style><div id=\"sk-container-id-1\" class=\"sk-top-container\"><div class=\"sk-text-repr-fallback\"><pre>OneHotEncoder(handle_unknown=&#x27;ignore&#x27;)</pre><b>In a Jupyter environment, please rerun this cell to show the HTML representation or trust the notebook. <br />On GitHub, the HTML representation is unable to render, please try loading this page with nbviewer.org.</b></div><div class=\"sk-container\" hidden><div class=\"sk-item\"><div class=\"sk-estimator sk-toggleable\"><input class=\"sk-toggleable__control sk-hidden--visually\" id=\"sk-estimator-id-1\" type=\"checkbox\" checked><label for=\"sk-estimator-id-1\" class=\"sk-toggleable__label sk-toggleable__label-arrow\">OneHotEncoder</label><div class=\"sk-toggleable__content\"><pre>OneHotEncoder(handle_unknown=&#x27;ignore&#x27;)</pre></div></div></div></div></div>"
      ],
      "text/plain": [
       "OneHotEncoder(handle_unknown='ignore')"
      ]
     },
     "execution_count": 42,
     "metadata": {},
     "output_type": "execute_result"
    }
   ],
   "source": [
    "ohe=OneHotEncoder(handle_unknown='ignore')\n",
    "ohe.fit(X[['name','company','fuel_type']])# it makes sigle array of name ,company and fuel_type unique\n"
   ]
  },
  {
   "cell_type": "code",
   "execution_count": 43,
   "id": "75a35417",
   "metadata": {
    "execution": {
     "iopub.execute_input": "2025-05-16T13:50:12.782777Z",
     "iopub.status.busy": "2025-05-16T13:50:12.782506Z",
     "iopub.status.idle": "2025-05-16T13:50:12.789141Z",
     "shell.execute_reply": "2025-05-16T13:50:12.788180Z"
    },
    "papermill": {
     "duration": 0.020855,
     "end_time": "2025-05-16T13:50:12.790633",
     "exception": false,
     "start_time": "2025-05-16T13:50:12.769778",
     "status": "completed"
    },
    "tags": []
   },
   "outputs": [
    {
     "data": {
      "text/plain": [
       "[array(['AudiA3Cabriolet', 'AudiA41.8', 'AudiA42.0', 'AudiA62.0', 'AudiA8',\n",
       "        'AudiQ32.0', 'AudiQ52.0', 'AudiQ7', 'BMW3Series', 'BMW5Series',\n",
       "        'BMW7Series', 'BMWX1', 'BMWX1sDrive20d', 'BMWX1xDrive20d',\n",
       "        'ChevroletBeat', 'ChevroletBeatDiesel', 'ChevroletBeatLS',\n",
       "        'ChevroletBeatLT', 'ChevroletBeatPS', 'ChevroletCruzeLTZ',\n",
       "        'ChevroletEnjoy', 'ChevroletEnjoy1.4', 'ChevroletSail1.2',\n",
       "        'ChevroletSailUVA', 'ChevroletSpark', 'ChevroletSpark1.0',\n",
       "        'ChevroletSparkLS', 'ChevroletSparkLT', 'ChevroletTaveraLS',\n",
       "        'ChevroletTaveraNeo', 'DatsunGOT', 'DatsunGoPlus', 'DatsunRediGO',\n",
       "        'FiatLineaEmotion', 'FiatPetraELX', 'FiatPuntoEmotion',\n",
       "        'ForceMotorsForce', 'ForceMotorsOne', 'FordEcoSport',\n",
       "        'FordEcoSportAmbiente', 'FordEcoSportTitanium',\n",
       "        'FordEcoSportTrend', 'FordEndeavor4x4', 'FordFiesta',\n",
       "        'FordFiestaSXi', 'FordFigo', 'FordFigoDiesel', 'FordFigoDuratorq',\n",
       "        'FordFigoPetrol', 'FordFusion1.4', 'FordIkon1.3', 'FordIkon1.6',\n",
       "        'HindustanMotorsAmbassador', 'HondaAccord', 'HondaAmaze',\n",
       "        'HondaAmaze1.2', 'HondaAmaze1.5', 'HondaBrio', 'HondaBrioV',\n",
       "        'HondaBrioVX', 'HondaCity', 'HondaCity1.5', 'HondaCitySV',\n",
       "        'HondaCityVX', 'HondaCityZX', 'HondaJazzS', 'HondaJazzVX',\n",
       "        'HondaMobilio', 'HondaMobilioS', 'HondaWRV', 'HyundaiAccent',\n",
       "        'HyundaiAccentExecutive', 'HyundaiAccentGLE', 'HyundaiAccentGLX',\n",
       "        'HyundaiCreta', 'HyundaiCreta1.6', 'HyundaiElantra1.8',\n",
       "        'HyundaiElantraSX', 'HyundaiElitei20', 'HyundaiEon', 'HyundaiEonD',\n",
       "        'HyundaiEonEra', 'HyundaiEonMagna', 'HyundaiEonSportz',\n",
       "        'HyundaiFluidicVerna', 'HyundaiGetz', 'HyundaiGetzGLE',\n",
       "        'HyundaiGetzPrime', 'HyundaiGrandi10', 'HyundaiSantro',\n",
       "        'HyundaiSantroAE', 'HyundaiSantroXing', 'HyundaiSonataTransform',\n",
       "        'HyundaiVerna', 'HyundaiVerna1.4', 'HyundaiVerna1.6',\n",
       "        'HyundaiVernaFluidic', 'HyundaiVernaTransform', 'HyundaiVernaVGT',\n",
       "        'HyundaiXcentBase', 'HyundaiXcentSX', 'Hyundaii10',\n",
       "        'Hyundaii10Era', 'Hyundaii10Magna', 'Hyundaii10Sportz',\n",
       "        'Hyundaii20', 'Hyundaii20Active', 'Hyundaii20Asta',\n",
       "        'Hyundaii20Magna', 'Hyundaii20Select', 'Hyundaii20Sportz',\n",
       "        'JaguarXEXE', 'JaguarXF2.2', 'JeepWranglerUnlimited',\n",
       "        'LandRoverFreelander', 'MahindraBoleroDI', 'MahindraBoleroPower',\n",
       "        'MahindraBoleroSLE', 'MahindraJeepCL550', 'MahindraJeepMM',\n",
       "        'MahindraKUV100', 'MahindraKUV100K8', 'MahindraLogan',\n",
       "        'MahindraLoganDiesel', 'MahindraQuantoC4', 'MahindraQuantoC8',\n",
       "        'MahindraScorpio', 'MahindraScorpio2.6', 'MahindraScorpioLX',\n",
       "        'MahindraScorpioS10', 'MahindraScorpioS4', 'MahindraScorpioSLE',\n",
       "        'MahindraScorpioSLX', 'MahindraScorpioVLX', 'MahindraScorpioVlx',\n",
       "        'MahindraScorpioW', 'MahindraTUV300T4', 'MahindraTUV300T8',\n",
       "        'MahindraTharCRDe', 'MahindraXUV500', 'MahindraXUV500W10',\n",
       "        'MahindraXUV500W6', 'MahindraXUV500W8', 'MahindraXyloD2',\n",
       "        'MahindraXyloE4', 'MahindraXyloE8', 'MarutiSuzuki800',\n",
       "        'MarutiSuzukiA', 'MarutiSuzukiAlto', 'MarutiSuzukiBaleno',\n",
       "        'MarutiSuzukiCelerio', 'MarutiSuzukiCiaz', 'MarutiSuzukiDzire',\n",
       "        'MarutiSuzukiEeco', 'MarutiSuzukiErtiga', 'MarutiSuzukiEsteem',\n",
       "        'MarutiSuzukiEstilo', 'MarutiSuzukiMaruti', 'MarutiSuzukiOmni',\n",
       "        'MarutiSuzukiRitz', 'MarutiSuzukiS', 'MarutiSuzukiSX4',\n",
       "        'MarutiSuzukiStingray', 'MarutiSuzukiSwift', 'MarutiSuzukiVersa',\n",
       "        'MarutiSuzukiVitara', 'MarutiSuzukiWagon', 'MarutiSuzukiZen',\n",
       "        'MercedesBenzA', 'MercedesBenzB', 'MercedesBenzC',\n",
       "        'MercedesBenzGLA', 'MiniCooperS', 'MitsubishiLancer1.8',\n",
       "        'MitsubishiPajeroSport', 'NissanMicraXL', 'NissanMicraXV',\n",
       "        'NissanSunny', 'NissanSunnyXL', 'NissanTerranoXL', 'NissanXTrail',\n",
       "        'RenaultDuster', 'RenaultDuster110', 'RenaultDuster110PS',\n",
       "        'RenaultDuster85', 'RenaultDuster85PS', 'RenaultDusterRxL',\n",
       "        'RenaultKwid', 'RenaultKwid1.0', 'RenaultKwidRXT',\n",
       "        'RenaultLodgy85', 'RenaultScalaRxL', 'SkodaFabia',\n",
       "        'SkodaFabia1.2L', 'SkodaFabiaClassic', 'SkodaLaura',\n",
       "        'SkodaOctaviaClassic', 'SkodaRapidElegance', 'SkodaSuperb1.8',\n",
       "        'SkodaYetiAmbition', 'TataAriaPleasure', 'TataBoltXM',\n",
       "        'TataIndica', 'TataIndicaV2', 'TataIndicaeV2', 'TataIndigoCS',\n",
       "        'TataIndigoLS', 'TataIndigoLX', 'TataIndigoMarina',\n",
       "        'TataIndigoeCS', 'TataManza', 'TataManzaAqua', 'TataManzaAura',\n",
       "        'TataManzaELAN', 'TataNano', 'TataNanoCx', 'TataNanoGenX',\n",
       "        'TataNanoLX', 'TataNanoLx', 'TataSumoGold', 'TataSumoGrande',\n",
       "        'TataSumoVicta', 'TataTiagoRevotorq', 'TataTiagoRevotron',\n",
       "        'TataTigorRevotron', 'TataVentureEX', 'TataVistaQuadrajet',\n",
       "        'TataZestQuadrajet', 'TataZestXE', 'TataZestXM', 'ToyotaCorolla',\n",
       "        'ToyotaCorollaAltis', 'ToyotaCorollaH2', 'ToyotaEtios',\n",
       "        'ToyotaEtiosG', 'ToyotaEtiosGD', 'ToyotaEtiosLiva',\n",
       "        'ToyotaFortuner', 'ToyotaFortuner3.0', 'ToyotaInnova2.0',\n",
       "        'ToyotaInnova2.5', 'ToyotaQualis', 'VolkswagenJettaComfortline',\n",
       "        'VolkswagenJettaHighline', 'VolkswagenPassatDiesel',\n",
       "        'VolkswagenPolo', 'VolkswagenPoloComfortline',\n",
       "        'VolkswagenPoloHighline', 'VolkswagenPoloHighline1.2L',\n",
       "        'VolkswagenPoloTrendline', 'VolkswagenVentoComfortline',\n",
       "        'VolkswagenVentoHighline', 'VolkswagenVentoKonekt',\n",
       "        'VolvoS80Summum'], dtype=object),\n",
       " array(['Audi', 'BMW', 'Chevrolet', 'Datsun', 'Fiat', 'Force', 'Ford',\n",
       "        'Hindustan', 'Honda', 'Hyundai', 'Jaguar', 'Jeep', 'Land',\n",
       "        'Mahindra', 'Maruti', 'Mercedes', 'Mini', 'Mitsubishi', 'Nissan',\n",
       "        'Renault', 'Skoda', 'Tata', 'Toyota', 'Volkswagen', 'Volvo'],\n",
       "       dtype=object),\n",
       " array(['Diesel', 'LPG', 'Petrol'], dtype=object)]"
      ]
     },
     "execution_count": 43,
     "metadata": {},
     "output_type": "execute_result"
    }
   ],
   "source": [
    "ohe.categories_"
   ]
  },
  {
   "cell_type": "code",
   "execution_count": 44,
   "id": "51446eea",
   "metadata": {
    "execution": {
     "iopub.execute_input": "2025-05-16T13:50:12.817523Z",
     "iopub.status.busy": "2025-05-16T13:50:12.817181Z",
     "iopub.status.idle": "2025-05-16T13:50:12.822434Z",
     "shell.execute_reply": "2025-05-16T13:50:12.821172Z"
    },
    "papermill": {
     "duration": 0.020789,
     "end_time": "2025-05-16T13:50:12.824296",
     "exception": false,
     "start_time": "2025-05-16T13:50:12.803507",
     "status": "completed"
    },
    "tags": []
   },
   "outputs": [],
   "source": [
    "column_trans=make_column_transformer((OneHotEncoder(handle_unknown='ignore',categories=ohe.categories_),\n",
    "                                      ['name','company','fuel_type']),\n",
    "                                     remainder='passthrough')"
   ]
  },
  {
   "cell_type": "code",
   "execution_count": 45,
   "id": "c9e76821",
   "metadata": {
    "execution": {
     "iopub.execute_input": "2025-05-16T13:50:12.851032Z",
     "iopub.status.busy": "2025-05-16T13:50:12.850743Z",
     "iopub.status.idle": "2025-05-16T13:50:12.855928Z",
     "shell.execute_reply": "2025-05-16T13:50:12.854746Z"
    },
    "papermill": {
     "duration": 0.020384,
     "end_time": "2025-05-16T13:50:12.857629",
     "exception": false,
     "start_time": "2025-05-16T13:50:12.837245",
     "status": "completed"
    },
    "tags": []
   },
   "outputs": [],
   "source": [
    "lr=LinearRegression()"
   ]
  },
  {
   "cell_type": "code",
   "execution_count": 46,
   "id": "ed466c96",
   "metadata": {
    "execution": {
     "iopub.execute_input": "2025-05-16T13:50:12.886884Z",
     "iopub.status.busy": "2025-05-16T13:50:12.886538Z",
     "iopub.status.idle": "2025-05-16T13:50:12.891132Z",
     "shell.execute_reply": "2025-05-16T13:50:12.890179Z"
    },
    "papermill": {
     "duration": 0.021947,
     "end_time": "2025-05-16T13:50:12.892892",
     "exception": false,
     "start_time": "2025-05-16T13:50:12.870945",
     "status": "completed"
    },
    "tags": []
   },
   "outputs": [],
   "source": [
    "pipe=make_pipeline(column_trans,lr) # pipe line first apply column_tarns and then it goes into linear regression"
   ]
  },
  {
   "cell_type": "code",
   "execution_count": 47,
   "id": "c8ee39da",
   "metadata": {
    "execution": {
     "iopub.execute_input": "2025-05-16T13:50:12.920126Z",
     "iopub.status.busy": "2025-05-16T13:50:12.919142Z",
     "iopub.status.idle": "2025-05-16T13:50:13.053236Z",
     "shell.execute_reply": "2025-05-16T13:50:13.051879Z"
    },
    "papermill": {
     "duration": 0.149242,
     "end_time": "2025-05-16T13:50:13.054795",
     "exception": false,
     "start_time": "2025-05-16T13:50:12.905553",
     "status": "completed"
    },
    "tags": []
   },
   "outputs": [
    {
     "data": {
      "text/html": [
       "<style>#sk-container-id-2 {color: black;background-color: white;}#sk-container-id-2 pre{padding: 0;}#sk-container-id-2 div.sk-toggleable {background-color: white;}#sk-container-id-2 label.sk-toggleable__label {cursor: pointer;display: block;width: 100%;margin-bottom: 0;padding: 0.3em;box-sizing: border-box;text-align: center;}#sk-container-id-2 label.sk-toggleable__label-arrow:before {content: \"▸\";float: left;margin-right: 0.25em;color: #696969;}#sk-container-id-2 label.sk-toggleable__label-arrow:hover:before {color: black;}#sk-container-id-2 div.sk-estimator:hover label.sk-toggleable__label-arrow:before {color: black;}#sk-container-id-2 div.sk-toggleable__content {max-height: 0;max-width: 0;overflow: hidden;text-align: left;background-color: #f0f8ff;}#sk-container-id-2 div.sk-toggleable__content pre {margin: 0.2em;color: black;border-radius: 0.25em;background-color: #f0f8ff;}#sk-container-id-2 input.sk-toggleable__control:checked~div.sk-toggleable__content {max-height: 200px;max-width: 100%;overflow: auto;}#sk-container-id-2 input.sk-toggleable__control:checked~label.sk-toggleable__label-arrow:before {content: \"▾\";}#sk-container-id-2 div.sk-estimator input.sk-toggleable__control:checked~label.sk-toggleable__label {background-color: #d4ebff;}#sk-container-id-2 div.sk-label input.sk-toggleable__control:checked~label.sk-toggleable__label {background-color: #d4ebff;}#sk-container-id-2 input.sk-hidden--visually {border: 0;clip: rect(1px 1px 1px 1px);clip: rect(1px, 1px, 1px, 1px);height: 1px;margin: -1px;overflow: hidden;padding: 0;position: absolute;width: 1px;}#sk-container-id-2 div.sk-estimator {font-family: monospace;background-color: #f0f8ff;border: 1px dotted black;border-radius: 0.25em;box-sizing: border-box;margin-bottom: 0.5em;}#sk-container-id-2 div.sk-estimator:hover {background-color: #d4ebff;}#sk-container-id-2 div.sk-parallel-item::after {content: \"\";width: 100%;border-bottom: 1px solid gray;flex-grow: 1;}#sk-container-id-2 div.sk-label:hover label.sk-toggleable__label {background-color: #d4ebff;}#sk-container-id-2 div.sk-serial::before {content: \"\";position: absolute;border-left: 1px solid gray;box-sizing: border-box;top: 0;bottom: 0;left: 50%;z-index: 0;}#sk-container-id-2 div.sk-serial {display: flex;flex-direction: column;align-items: center;background-color: white;padding-right: 0.2em;padding-left: 0.2em;position: relative;}#sk-container-id-2 div.sk-item {position: relative;z-index: 1;}#sk-container-id-2 div.sk-parallel {display: flex;align-items: stretch;justify-content: center;background-color: white;position: relative;}#sk-container-id-2 div.sk-item::before, #sk-container-id-2 div.sk-parallel-item::before {content: \"\";position: absolute;border-left: 1px solid gray;box-sizing: border-box;top: 0;bottom: 0;left: 50%;z-index: -1;}#sk-container-id-2 div.sk-parallel-item {display: flex;flex-direction: column;z-index: 1;position: relative;background-color: white;}#sk-container-id-2 div.sk-parallel-item:first-child::after {align-self: flex-end;width: 50%;}#sk-container-id-2 div.sk-parallel-item:last-child::after {align-self: flex-start;width: 50%;}#sk-container-id-2 div.sk-parallel-item:only-child::after {width: 0;}#sk-container-id-2 div.sk-dashed-wrapped {border: 1px dashed gray;margin: 0 0.4em 0.5em 0.4em;box-sizing: border-box;padding-bottom: 0.4em;background-color: white;}#sk-container-id-2 div.sk-label label {font-family: monospace;font-weight: bold;display: inline-block;line-height: 1.2em;}#sk-container-id-2 div.sk-label-container {text-align: center;}#sk-container-id-2 div.sk-container {/* jupyter's `normalize.less` sets `[hidden] { display: none; }` but bootstrap.min.css set `[hidden] { display: none !important; }` so we also need the `!important` here to be able to override the default hidden behavior on the sphinx rendered scikit-learn.org. See: https://github.com/scikit-learn/scikit-learn/issues/21755 */display: inline-block !important;position: relative;}#sk-container-id-2 div.sk-text-repr-fallback {display: none;}</style><div id=\"sk-container-id-2\" class=\"sk-top-container\"><div class=\"sk-text-repr-fallback\"><pre>Pipeline(steps=[(&#x27;columntransformer&#x27;,\n",
       "                 ColumnTransformer(remainder=&#x27;passthrough&#x27;,\n",
       "                                   transformers=[(&#x27;onehotencoder&#x27;,\n",
       "                                                  OneHotEncoder(categories=[array([&#x27;AudiA3Cabriolet&#x27;, &#x27;AudiA41.8&#x27;, &#x27;AudiA42.0&#x27;, &#x27;AudiA62.0&#x27;, &#x27;AudiA8&#x27;,\n",
       "       &#x27;AudiQ32.0&#x27;, &#x27;AudiQ52.0&#x27;, &#x27;AudiQ7&#x27;, &#x27;BMW3Series&#x27;, &#x27;BMW5Series&#x27;,\n",
       "       &#x27;BMW7Series&#x27;, &#x27;BMWX1&#x27;, &#x27;BMWX1sDrive20d&#x27;, &#x27;BMWX1xDrive20d&#x27;,\n",
       "       &#x27;ChevroletBeat&#x27;, &#x27;ChevroletBeat...\n",
       "                                                                            array([&#x27;Audi&#x27;, &#x27;BMW&#x27;, &#x27;Chevrolet&#x27;, &#x27;Datsun&#x27;, &#x27;Fiat&#x27;, &#x27;Force&#x27;, &#x27;Ford&#x27;,\n",
       "       &#x27;Hindustan&#x27;, &#x27;Honda&#x27;, &#x27;Hyundai&#x27;, &#x27;Jaguar&#x27;, &#x27;Jeep&#x27;, &#x27;Land&#x27;,\n",
       "       &#x27;Mahindra&#x27;, &#x27;Maruti&#x27;, &#x27;Mercedes&#x27;, &#x27;Mini&#x27;, &#x27;Mitsubishi&#x27;, &#x27;Nissan&#x27;,\n",
       "       &#x27;Renault&#x27;, &#x27;Skoda&#x27;, &#x27;Tata&#x27;, &#x27;Toyota&#x27;, &#x27;Volkswagen&#x27;, &#x27;Volvo&#x27;],\n",
       "      dtype=object),\n",
       "                                                                            array([&#x27;Diesel&#x27;, &#x27;LPG&#x27;, &#x27;Petrol&#x27;], dtype=object)],\n",
       "                                                                handle_unknown=&#x27;ignore&#x27;),\n",
       "                                                  [&#x27;name&#x27;, &#x27;company&#x27;,\n",
       "                                                   &#x27;fuel_type&#x27;])])),\n",
       "                (&#x27;linearregression&#x27;, LinearRegression())])</pre><b>In a Jupyter environment, please rerun this cell to show the HTML representation or trust the notebook. <br />On GitHub, the HTML representation is unable to render, please try loading this page with nbviewer.org.</b></div><div class=\"sk-container\" hidden><div class=\"sk-item sk-dashed-wrapped\"><div class=\"sk-label-container\"><div class=\"sk-label sk-toggleable\"><input class=\"sk-toggleable__control sk-hidden--visually\" id=\"sk-estimator-id-2\" type=\"checkbox\" ><label for=\"sk-estimator-id-2\" class=\"sk-toggleable__label sk-toggleable__label-arrow\">Pipeline</label><div class=\"sk-toggleable__content\"><pre>Pipeline(steps=[(&#x27;columntransformer&#x27;,\n",
       "                 ColumnTransformer(remainder=&#x27;passthrough&#x27;,\n",
       "                                   transformers=[(&#x27;onehotencoder&#x27;,\n",
       "                                                  OneHotEncoder(categories=[array([&#x27;AudiA3Cabriolet&#x27;, &#x27;AudiA41.8&#x27;, &#x27;AudiA42.0&#x27;, &#x27;AudiA62.0&#x27;, &#x27;AudiA8&#x27;,\n",
       "       &#x27;AudiQ32.0&#x27;, &#x27;AudiQ52.0&#x27;, &#x27;AudiQ7&#x27;, &#x27;BMW3Series&#x27;, &#x27;BMW5Series&#x27;,\n",
       "       &#x27;BMW7Series&#x27;, &#x27;BMWX1&#x27;, &#x27;BMWX1sDrive20d&#x27;, &#x27;BMWX1xDrive20d&#x27;,\n",
       "       &#x27;ChevroletBeat&#x27;, &#x27;ChevroletBeat...\n",
       "                                                                            array([&#x27;Audi&#x27;, &#x27;BMW&#x27;, &#x27;Chevrolet&#x27;, &#x27;Datsun&#x27;, &#x27;Fiat&#x27;, &#x27;Force&#x27;, &#x27;Ford&#x27;,\n",
       "       &#x27;Hindustan&#x27;, &#x27;Honda&#x27;, &#x27;Hyundai&#x27;, &#x27;Jaguar&#x27;, &#x27;Jeep&#x27;, &#x27;Land&#x27;,\n",
       "       &#x27;Mahindra&#x27;, &#x27;Maruti&#x27;, &#x27;Mercedes&#x27;, &#x27;Mini&#x27;, &#x27;Mitsubishi&#x27;, &#x27;Nissan&#x27;,\n",
       "       &#x27;Renault&#x27;, &#x27;Skoda&#x27;, &#x27;Tata&#x27;, &#x27;Toyota&#x27;, &#x27;Volkswagen&#x27;, &#x27;Volvo&#x27;],\n",
       "      dtype=object),\n",
       "                                                                            array([&#x27;Diesel&#x27;, &#x27;LPG&#x27;, &#x27;Petrol&#x27;], dtype=object)],\n",
       "                                                                handle_unknown=&#x27;ignore&#x27;),\n",
       "                                                  [&#x27;name&#x27;, &#x27;company&#x27;,\n",
       "                                                   &#x27;fuel_type&#x27;])])),\n",
       "                (&#x27;linearregression&#x27;, LinearRegression())])</pre></div></div></div><div class=\"sk-serial\"><div class=\"sk-item sk-dashed-wrapped\"><div class=\"sk-label-container\"><div class=\"sk-label sk-toggleable\"><input class=\"sk-toggleable__control sk-hidden--visually\" id=\"sk-estimator-id-3\" type=\"checkbox\" ><label for=\"sk-estimator-id-3\" class=\"sk-toggleable__label sk-toggleable__label-arrow\">columntransformer: ColumnTransformer</label><div class=\"sk-toggleable__content\"><pre>ColumnTransformer(remainder=&#x27;passthrough&#x27;,\n",
       "                  transformers=[(&#x27;onehotencoder&#x27;,\n",
       "                                 OneHotEncoder(categories=[array([&#x27;AudiA3Cabriolet&#x27;, &#x27;AudiA41.8&#x27;, &#x27;AudiA42.0&#x27;, &#x27;AudiA62.0&#x27;, &#x27;AudiA8&#x27;,\n",
       "       &#x27;AudiQ32.0&#x27;, &#x27;AudiQ52.0&#x27;, &#x27;AudiQ7&#x27;, &#x27;BMW3Series&#x27;, &#x27;BMW5Series&#x27;,\n",
       "       &#x27;BMW7Series&#x27;, &#x27;BMWX1&#x27;, &#x27;BMWX1sDrive20d&#x27;, &#x27;BMWX1xDrive20d&#x27;,\n",
       "       &#x27;ChevroletBeat&#x27;, &#x27;ChevroletBeatDiesel&#x27;, &#x27;ChevroletBeatLS&#x27;,\n",
       "       &#x27;ChevroletB...\n",
       "                                                           array([&#x27;Audi&#x27;, &#x27;BMW&#x27;, &#x27;Chevrolet&#x27;, &#x27;Datsun&#x27;, &#x27;Fiat&#x27;, &#x27;Force&#x27;, &#x27;Ford&#x27;,\n",
       "       &#x27;Hindustan&#x27;, &#x27;Honda&#x27;, &#x27;Hyundai&#x27;, &#x27;Jaguar&#x27;, &#x27;Jeep&#x27;, &#x27;Land&#x27;,\n",
       "       &#x27;Mahindra&#x27;, &#x27;Maruti&#x27;, &#x27;Mercedes&#x27;, &#x27;Mini&#x27;, &#x27;Mitsubishi&#x27;, &#x27;Nissan&#x27;,\n",
       "       &#x27;Renault&#x27;, &#x27;Skoda&#x27;, &#x27;Tata&#x27;, &#x27;Toyota&#x27;, &#x27;Volkswagen&#x27;, &#x27;Volvo&#x27;],\n",
       "      dtype=object),\n",
       "                                                           array([&#x27;Diesel&#x27;, &#x27;LPG&#x27;, &#x27;Petrol&#x27;], dtype=object)],\n",
       "                                               handle_unknown=&#x27;ignore&#x27;),\n",
       "                                 [&#x27;name&#x27;, &#x27;company&#x27;, &#x27;fuel_type&#x27;])])</pre></div></div></div><div class=\"sk-parallel\"><div class=\"sk-parallel-item\"><div class=\"sk-item\"><div class=\"sk-label-container\"><div class=\"sk-label sk-toggleable\"><input class=\"sk-toggleable__control sk-hidden--visually\" id=\"sk-estimator-id-4\" type=\"checkbox\" ><label for=\"sk-estimator-id-4\" class=\"sk-toggleable__label sk-toggleable__label-arrow\">onehotencoder</label><div class=\"sk-toggleable__content\"><pre>[&#x27;name&#x27;, &#x27;company&#x27;, &#x27;fuel_type&#x27;]</pre></div></div></div><div class=\"sk-serial\"><div class=\"sk-item\"><div class=\"sk-estimator sk-toggleable\"><input class=\"sk-toggleable__control sk-hidden--visually\" id=\"sk-estimator-id-5\" type=\"checkbox\" ><label for=\"sk-estimator-id-5\" class=\"sk-toggleable__label sk-toggleable__label-arrow\">OneHotEncoder</label><div class=\"sk-toggleable__content\"><pre>OneHotEncoder(categories=[array([&#x27;AudiA3Cabriolet&#x27;, &#x27;AudiA41.8&#x27;, &#x27;AudiA42.0&#x27;, &#x27;AudiA62.0&#x27;, &#x27;AudiA8&#x27;,\n",
       "       &#x27;AudiQ32.0&#x27;, &#x27;AudiQ52.0&#x27;, &#x27;AudiQ7&#x27;, &#x27;BMW3Series&#x27;, &#x27;BMW5Series&#x27;,\n",
       "       &#x27;BMW7Series&#x27;, &#x27;BMWX1&#x27;, &#x27;BMWX1sDrive20d&#x27;, &#x27;BMWX1xDrive20d&#x27;,\n",
       "       &#x27;ChevroletBeat&#x27;, &#x27;ChevroletBeatDiesel&#x27;, &#x27;ChevroletBeatLS&#x27;,\n",
       "       &#x27;ChevroletBeatLT&#x27;, &#x27;ChevroletBeatPS&#x27;, &#x27;ChevroletCruzeLTZ&#x27;,\n",
       "       &#x27;ChevroletEnjoy&#x27;, &#x27;ChevroletE...\n",
       "       &#x27;VolkswagenVentoHighline&#x27;, &#x27;VolkswagenVentoKonekt&#x27;,\n",
       "       &#x27;VolvoS80Summum&#x27;], dtype=object),\n",
       "                          array([&#x27;Audi&#x27;, &#x27;BMW&#x27;, &#x27;Chevrolet&#x27;, &#x27;Datsun&#x27;, &#x27;Fiat&#x27;, &#x27;Force&#x27;, &#x27;Ford&#x27;,\n",
       "       &#x27;Hindustan&#x27;, &#x27;Honda&#x27;, &#x27;Hyundai&#x27;, &#x27;Jaguar&#x27;, &#x27;Jeep&#x27;, &#x27;Land&#x27;,\n",
       "       &#x27;Mahindra&#x27;, &#x27;Maruti&#x27;, &#x27;Mercedes&#x27;, &#x27;Mini&#x27;, &#x27;Mitsubishi&#x27;, &#x27;Nissan&#x27;,\n",
       "       &#x27;Renault&#x27;, &#x27;Skoda&#x27;, &#x27;Tata&#x27;, &#x27;Toyota&#x27;, &#x27;Volkswagen&#x27;, &#x27;Volvo&#x27;],\n",
       "      dtype=object),\n",
       "                          array([&#x27;Diesel&#x27;, &#x27;LPG&#x27;, &#x27;Petrol&#x27;], dtype=object)],\n",
       "              handle_unknown=&#x27;ignore&#x27;)</pre></div></div></div></div></div></div><div class=\"sk-parallel-item\"><div class=\"sk-item\"><div class=\"sk-label-container\"><div class=\"sk-label sk-toggleable\"><input class=\"sk-toggleable__control sk-hidden--visually\" id=\"sk-estimator-id-6\" type=\"checkbox\" ><label for=\"sk-estimator-id-6\" class=\"sk-toggleable__label sk-toggleable__label-arrow\">remainder</label><div class=\"sk-toggleable__content\"><pre>[&#x27;year&#x27;, &#x27;kms_driven&#x27;]</pre></div></div></div><div class=\"sk-serial\"><div class=\"sk-item\"><div class=\"sk-estimator sk-toggleable\"><input class=\"sk-toggleable__control sk-hidden--visually\" id=\"sk-estimator-id-7\" type=\"checkbox\" ><label for=\"sk-estimator-id-7\" class=\"sk-toggleable__label sk-toggleable__label-arrow\">passthrough</label><div class=\"sk-toggleable__content\"><pre>passthrough</pre></div></div></div></div></div></div></div></div><div class=\"sk-item\"><div class=\"sk-estimator sk-toggleable\"><input class=\"sk-toggleable__control sk-hidden--visually\" id=\"sk-estimator-id-8\" type=\"checkbox\" ><label for=\"sk-estimator-id-8\" class=\"sk-toggleable__label sk-toggleable__label-arrow\">LinearRegression</label><div class=\"sk-toggleable__content\"><pre>LinearRegression()</pre></div></div></div></div></div></div></div>"
      ],
      "text/plain": [
       "Pipeline(steps=[('columntransformer',\n",
       "                 ColumnTransformer(remainder='passthrough',\n",
       "                                   transformers=[('onehotencoder',\n",
       "                                                  OneHotEncoder(categories=[array(['AudiA3Cabriolet', 'AudiA41.8', 'AudiA42.0', 'AudiA62.0', 'AudiA8',\n",
       "       'AudiQ32.0', 'AudiQ52.0', 'AudiQ7', 'BMW3Series', 'BMW5Series',\n",
       "       'BMW7Series', 'BMWX1', 'BMWX1sDrive20d', 'BMWX1xDrive20d',\n",
       "       'ChevroletBeat', 'ChevroletBeat...\n",
       "                                                                            array(['Audi', 'BMW', 'Chevrolet', 'Datsun', 'Fiat', 'Force', 'Ford',\n",
       "       'Hindustan', 'Honda', 'Hyundai', 'Jaguar', 'Jeep', 'Land',\n",
       "       'Mahindra', 'Maruti', 'Mercedes', 'Mini', 'Mitsubishi', 'Nissan',\n",
       "       'Renault', 'Skoda', 'Tata', 'Toyota', 'Volkswagen', 'Volvo'],\n",
       "      dtype=object),\n",
       "                                                                            array(['Diesel', 'LPG', 'Petrol'], dtype=object)],\n",
       "                                                                handle_unknown='ignore'),\n",
       "                                                  ['name', 'company',\n",
       "                                                   'fuel_type'])])),\n",
       "                ('linearregression', LinearRegression())])"
      ]
     },
     "execution_count": 47,
     "metadata": {},
     "output_type": "execute_result"
    }
   ],
   "source": [
    "pipe.fit(X_train,y_train)"
   ]
  },
  {
   "cell_type": "code",
   "execution_count": 48,
   "id": "39fe4dd2",
   "metadata": {
    "execution": {
     "iopub.execute_input": "2025-05-16T13:50:13.082917Z",
     "iopub.status.busy": "2025-05-16T13:50:13.082634Z",
     "iopub.status.idle": "2025-05-16T13:50:13.093780Z",
     "shell.execute_reply": "2025-05-16T13:50:13.092567Z"
    },
    "papermill": {
     "duration": 0.027085,
     "end_time": "2025-05-16T13:50:13.095886",
     "exception": false,
     "start_time": "2025-05-16T13:50:13.068801",
     "status": "completed"
    },
    "tags": []
   },
   "outputs": [],
   "source": [
    "y_pred= pipe.predict(X_test)"
   ]
  },
  {
   "cell_type": "code",
   "execution_count": 49,
   "id": "1124c6e4",
   "metadata": {
    "execution": {
     "iopub.execute_input": "2025-05-16T13:50:13.127554Z",
     "iopub.status.busy": "2025-05-16T13:50:13.127213Z",
     "iopub.status.idle": "2025-05-16T13:50:13.134829Z",
     "shell.execute_reply": "2025-05-16T13:50:13.133689Z"
    },
    "papermill": {
     "duration": 0.02476,
     "end_time": "2025-05-16T13:50:13.137428",
     "exception": false,
     "start_time": "2025-05-16T13:50:13.112668",
     "status": "completed"
    },
    "tags": []
   },
   "outputs": [
    {
     "data": {
      "text/plain": [
       "array([ 489446.4852634 ,  106532.86390929,  396710.27129729,\n",
       "       1516263.04162551,  355484.74881241,   65969.32903678,\n",
       "        184257.66224153,  215769.11058258,  712774.83261321,\n",
       "        130165.40225213, 1604171.95617139,  295793.1957289 ,\n",
       "        296748.5849355 ,  256718.50311609,  468207.84675519,\n",
       "        210585.43603943,  375076.73442799,  245824.5555277 ,\n",
       "        269690.47351195, 1508135.15739988,  335351.1958776 ,\n",
       "         22350.39513832,  295842.22172971,  260139.50296189,\n",
       "        354415.91765848,  288398.61324496,  279552.6448    ,\n",
       "        610115.17346334,  439860.95219772, 1176243.27606661,\n",
       "         54842.71768273,  198455.80375549, 1222471.79972424,\n",
       "        310521.73327948,  440264.84454238,  335149.42833682,\n",
       "       1730161.25017015,  379805.95235652,  322822.76565994,\n",
       "        125436.94735476,  151763.6898712 ,  513269.54787219,\n",
       "        501853.08151713, -202942.42251413,  759632.36480289,\n",
       "        314289.39273573,  675547.03348029,  371550.85829211,\n",
       "        497573.38049265,  -44453.30050895,  543271.2627635 ,\n",
       "        280901.66836631,  314282.09974068,  449733.1594808 ,\n",
       "        501929.74525991,  343706.28225575,  277584.20647524,\n",
       "        194481.69346245,  338935.15825994, 2103952.59643532,\n",
       "        416979.80494138,  257375.98120196,  365497.21661942,\n",
       "         69314.71692249,  949604.18153865,  573197.21845403,\n",
       "        275940.51126056,  383505.66348692,  467398.88451242,\n",
       "        506238.06965538, 2103952.59643532,  342186.52106006,\n",
       "        506238.06965538,  207888.0415554 ,  335954.97263572,\n",
       "        519447.95067524,  362937.15931113,   46497.1091918 ,\n",
       "        422788.43814673,  284201.46151555,  181864.45725227,\n",
       "        152824.11555599,  272653.12083121,  369793.8366095 ,\n",
       "        392324.89492036,  -22953.96816463,  231031.29859563,\n",
       "        219663.48884793,  577728.40995083,  543491.51584485,\n",
       "        745702.83089975,  403520.63418464,  452996.32000569,\n",
       "        604333.91040755,   73618.74092269,  296799.14414798,\n",
       "        243523.38222716,  374295.08929708,  555005.07860456,\n",
       "        152824.11555599,  446852.31134114,  222396.13764644,\n",
       "        436004.17481314,  447408.80347548,  329025.61732998,\n",
       "        608647.39907503,  419670.2628115 ,  422553.2601865 ,\n",
       "        546140.63499764,  240053.66054365,  415315.62651198,\n",
       "        610768.25554518,  621077.8580845 ,  160763.57804943,\n",
       "        307011.13779094,  273183.86185533,  594697.66303185,\n",
       "        -20911.12736905,  377443.15443392,  355753.18119249,\n",
       "        299872.8408399 ,  267256.5373864 ,  187659.73298388,\n",
       "        210850.33294793,  270225.21046891,  -55912.71039577,\n",
       "        144996.366175  ,  126820.44301801,  494291.84331321,\n",
       "        564301.05800342,  213271.8590305 ,  775207.04717863,\n",
       "        770824.91670414,   -9475.6674043 ,  540654.18173889,\n",
       "       -107624.95958994,  245239.12797698,  665884.81137608,\n",
       "        508661.48088761,  260256.67057998,  696678.56524424,\n",
       "        443796.04312103,  212457.16357004, 1492819.82467772,\n",
       "        370868.37357523, 1511422.54782923,  474733.75725739,\n",
       "        185890.92571437,  559756.75236   ,  403229.65231599,\n",
       "        311885.03003193,   63397.41414966, 2103788.22691385,\n",
       "        210155.9902695 ,  804143.91079286,  720044.21723706,\n",
       "        244940.70419853, -154168.8423452 ,  216320.43213838,\n",
       "       2103952.59643532, 1034037.12395354,  515728.11182163,\n",
       "         69307.23557187])"
      ]
     },
     "execution_count": 49,
     "metadata": {},
     "output_type": "execute_result"
    }
   ],
   "source": [
    "y_pred"
   ]
  },
  {
   "cell_type": "code",
   "execution_count": 50,
   "id": "f8ce0a9e",
   "metadata": {
    "execution": {
     "iopub.execute_input": "2025-05-16T13:50:13.169580Z",
     "iopub.status.busy": "2025-05-16T13:50:13.169277Z",
     "iopub.status.idle": "2025-05-16T13:50:13.175744Z",
     "shell.execute_reply": "2025-05-16T13:50:13.174981Z"
    },
    "papermill": {
     "duration": 0.024406,
     "end_time": "2025-05-16T13:50:13.177885",
     "exception": false,
     "start_time": "2025-05-16T13:50:13.153479",
     "status": "completed"
    },
    "tags": []
   },
   "outputs": [
    {
     "data": {
      "text/plain": [
       "0.7667723635961157"
      ]
     },
     "execution_count": 50,
     "metadata": {},
     "output_type": "execute_result"
    }
   ],
   "source": [
    "r2_score(y_test,y_pred)"
   ]
  },
  {
   "cell_type": "markdown",
   "id": "38699b6f",
   "metadata": {
    "papermill": {
     "duration": 0.016158,
     "end_time": "2025-05-16T13:50:13.208194",
     "exception": false,
     "start_time": "2025-05-16T13:50:13.192036",
     "status": "completed"
    },
    "tags": []
   },
   "source": [
    "# *Random_state value*"
   ]
  },
  {
   "cell_type": "code",
   "execution_count": 51,
   "id": "6508e089",
   "metadata": {
    "execution": {
     "iopub.execute_input": "2025-05-16T13:50:13.237188Z",
     "iopub.status.busy": "2025-05-16T13:50:13.236129Z",
     "iopub.status.idle": "2025-05-16T13:50:27.913956Z",
     "shell.execute_reply": "2025-05-16T13:50:27.912974Z"
    },
    "papermill": {
     "duration": 14.693628,
     "end_time": "2025-05-16T13:50:27.915919",
     "exception": false,
     "start_time": "2025-05-16T13:50:13.222291",
     "status": "completed"
    },
    "tags": []
   },
   "outputs": [],
   "source": [
    "score=[]\n",
    "for i in range(1000):\n",
    "    X_train, X_test, y_train, y_test = train_test_split(\n",
    "    X, y, test_size=0.2,random_state=i)\n",
    "    pipe=make_pipeline(column_trans,lr)\n",
    "    pipe.fit(X_train,y_train)\n",
    "    y_pred= pipe.predict(X_test)\n",
    "    score.append(r2_score(y_test,y_pred))\n",
    "    \n",
    "    "
   ]
  },
  {
   "cell_type": "code",
   "execution_count": 52,
   "id": "d43af29e",
   "metadata": {
    "execution": {
     "iopub.execute_input": "2025-05-16T13:50:27.943978Z",
     "iopub.status.busy": "2025-05-16T13:50:27.943666Z",
     "iopub.status.idle": "2025-05-16T13:50:27.950645Z",
     "shell.execute_reply": "2025-05-16T13:50:27.949602Z"
    },
    "papermill": {
     "duration": 0.02381,
     "end_time": "2025-05-16T13:50:27.952877",
     "exception": false,
     "start_time": "2025-05-16T13:50:27.929067",
     "status": "completed"
    },
    "tags": []
   },
   "outputs": [
    {
     "data": {
      "text/plain": [
       "433"
      ]
     },
     "execution_count": 52,
     "metadata": {},
     "output_type": "execute_result"
    }
   ],
   "source": [
    "np.argmax(score)"
   ]
  },
  {
   "cell_type": "code",
   "execution_count": 53,
   "id": "28eb1ca2",
   "metadata": {
    "execution": {
     "iopub.execute_input": "2025-05-16T13:50:27.982832Z",
     "iopub.status.busy": "2025-05-16T13:50:27.982496Z",
     "iopub.status.idle": "2025-05-16T13:50:28.007080Z",
     "shell.execute_reply": "2025-05-16T13:50:28.006070Z"
    },
    "papermill": {
     "duration": 0.042011,
     "end_time": "2025-05-16T13:50:28.008795",
     "exception": false,
     "start_time": "2025-05-16T13:50:27.966784",
     "status": "completed"
    },
    "tags": []
   },
   "outputs": [
    {
     "data": {
      "text/plain": [
       "0.8457242566531133"
      ]
     },
     "execution_count": 53,
     "metadata": {},
     "output_type": "execute_result"
    }
   ],
   "source": [
    "X_train, X_test, y_train, y_test = train_test_split(X, y, test_size=0.2,random_state=433)\n",
    "pipe=make_pipeline(column_trans,lr)\n",
    "pipe.fit(X_train,y_train)\n",
    "y_pred= pipe.predict(X_test)\n",
    "r2_score(y_test,y_pred)"
   ]
  },
  {
   "cell_type": "code",
   "execution_count": 54,
   "id": "dde36df4",
   "metadata": {
    "execution": {
     "iopub.execute_input": "2025-05-16T13:50:28.037205Z",
     "iopub.status.busy": "2025-05-16T13:50:28.036867Z",
     "iopub.status.idle": "2025-05-16T13:50:28.042414Z",
     "shell.execute_reply": "2025-05-16T13:50:28.041146Z"
    },
    "papermill": {
     "duration": 0.021687,
     "end_time": "2025-05-16T13:50:28.044134",
     "exception": false,
     "start_time": "2025-05-16T13:50:28.022447",
     "status": "completed"
    },
    "tags": []
   },
   "outputs": [],
   "source": [
    "import pickle"
   ]
  },
  {
   "cell_type": "code",
   "execution_count": 55,
   "id": "17faad7d",
   "metadata": {
    "execution": {
     "iopub.execute_input": "2025-05-16T13:50:28.078420Z",
     "iopub.status.busy": "2025-05-16T13:50:28.076606Z",
     "iopub.status.idle": "2025-05-16T13:50:28.084461Z",
     "shell.execute_reply": "2025-05-16T13:50:28.083374Z"
    },
    "papermill": {
     "duration": 0.026886,
     "end_time": "2025-05-16T13:50:28.086100",
     "exception": false,
     "start_time": "2025-05-16T13:50:28.059214",
     "status": "completed"
    },
    "tags": []
   },
   "outputs": [],
   "source": [
    "pickle.dump(pipe,open('LRMCarprice.pkl','wb'))"
   ]
  },
  {
   "cell_type": "code",
   "execution_count": 56,
   "id": "621c57c7",
   "metadata": {
    "execution": {
     "iopub.execute_input": "2025-05-16T13:50:28.115111Z",
     "iopub.status.busy": "2025-05-16T13:50:28.114781Z",
     "iopub.status.idle": "2025-05-16T13:50:28.126632Z",
     "shell.execute_reply": "2025-05-16T13:50:28.125660Z"
    },
    "papermill": {
     "duration": 0.028883,
     "end_time": "2025-05-16T13:50:28.128650",
     "exception": false,
     "start_time": "2025-05-16T13:50:28.099767",
     "status": "completed"
    },
    "tags": []
   },
   "outputs": [],
   "source": [
    "result=pipe.predict(pd.DataFrame(\n",
    "    [['Maruti Suzuki Swift', 'Maruti', 2019, 100, 'Petrol']],\n",
    "    columns=['name', 'company', 'year', 'kms_driven', 'fuel_type']\n",
    "))\n"
   ]
  },
  {
   "cell_type": "code",
   "execution_count": 57,
   "id": "dfa9c9e1",
   "metadata": {
    "execution": {
     "iopub.execute_input": "2025-05-16T13:50:28.157941Z",
     "iopub.status.busy": "2025-05-16T13:50:28.157642Z",
     "iopub.status.idle": "2025-05-16T13:50:28.165387Z",
     "shell.execute_reply": "2025-05-16T13:50:28.163822Z"
    },
    "papermill": {
     "duration": 0.024503,
     "end_time": "2025-05-16T13:50:28.167083",
     "exception": false,
     "start_time": "2025-05-16T13:50:28.142580",
     "status": "completed"
    },
    "tags": []
   },
   "outputs": [
    {
     "data": {
      "text/plain": [
       "array([561679.77908596])"
      ]
     },
     "execution_count": 57,
     "metadata": {},
     "output_type": "execute_result"
    }
   ],
   "source": [
    "result"
   ]
  },
  {
   "cell_type": "code",
   "execution_count": null,
   "id": "4b9389d8",
   "metadata": {
    "papermill": {
     "duration": 0.013155,
     "end_time": "2025-05-16T13:50:28.193985",
     "exception": false,
     "start_time": "2025-05-16T13:50:28.180830",
     "status": "completed"
    },
    "tags": []
   },
   "outputs": [],
   "source": []
  }
 ],
 "metadata": {
  "kaggle": {
   "accelerator": "none",
   "dataSources": [
    {
     "datasetId": 7433309,
     "sourceId": 11832163,
     "sourceType": "datasetVersion"
    }
   ],
   "dockerImageVersionId": 31040,
   "isGpuEnabled": false,
   "isInternetEnabled": false,
   "language": "python",
   "sourceType": "notebook"
  },
  "kernelspec": {
   "display_name": "Python 3",
   "language": "python",
   "name": "python3"
  },
  "language_info": {
   "codemirror_mode": {
    "name": "ipython",
    "version": 3
   },
   "file_extension": ".py",
   "mimetype": "text/x-python",
   "name": "python",
   "nbconvert_exporter": "python",
   "pygments_lexer": "ipython3",
   "version": "3.11.11"
  },
  "papermill": {
   "default_parameters": {},
   "duration": 27.212442,
   "end_time": "2025-05-16T13:50:28.927520",
   "environment_variables": {},
   "exception": null,
   "input_path": "__notebook__.ipynb",
   "output_path": "__notebook__.ipynb",
   "parameters": {},
   "start_time": "2025-05-16T13:50:01.715078",
   "version": "2.6.0"
  }
 },
 "nbformat": 4,
 "nbformat_minor": 5
}
